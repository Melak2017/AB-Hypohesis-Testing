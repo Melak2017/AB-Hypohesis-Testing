{
 "cells": [
  {
   "cell_type": "code",
   "execution_count": 47,
   "id": "9855f4fa",
   "metadata": {},
   "outputs": [],
   "source": [
    "#importing packages for data manuplation\n",
    "import scipy\n",
    "import warnings\n",
    "import numpy as np\n",
    "import pandas as pd\n",
    "import seaborn as sns\n",
    "import scipy.stats as scs\n",
    "import plotly.express as px\n",
    "import plotly.graph_objects as go\n",
    "import matplotlib.pyplot as plt\n",
    "from plotly.subplots import make_subplots\n",
    "import sys\n",
    "sys.path.insert(0,'../scripts_/')\n",
    "from HypothesisPlot import HypothesisPlot\n",
    "from DistributionPlots import DistributionPlots"
   ]
  },
  {
   "cell_type": "code",
   "execution_count": 48,
   "id": "0c0ce20b",
   "metadata": {},
   "outputs": [],
   "source": [
    "sys.path.append(os.path.abspath(os.path.join('data')))"
   ]
  },
  {
   "cell_type": "markdown",
   "id": "c7274395",
   "metadata": {},
   "source": [
    "## Task 1: A/B testing framework"
   ]
  },
  {
   "cell_type": "markdown",
   "id": "74c655b1",
   "metadata": {},
   "source": [
    "### Data Preparation"
   ]
  },
  {
   "cell_type": "code",
   "execution_count": 49,
   "id": "2037120e",
   "metadata": {},
   "outputs": [
    {
     "data": {
      "text/html": [
       "<div>\n",
       "<style scoped>\n",
       "    .dataframe tbody tr th:only-of-type {\n",
       "        vertical-align: middle;\n",
       "    }\n",
       "\n",
       "    .dataframe tbody tr th {\n",
       "        vertical-align: top;\n",
       "    }\n",
       "\n",
       "    .dataframe thead th {\n",
       "        text-align: right;\n",
       "    }\n",
       "</style>\n",
       "<table border=\"1\" class=\"dataframe\">\n",
       "  <thead>\n",
       "    <tr style=\"text-align: right;\">\n",
       "      <th></th>\n",
       "      <th>auction_id</th>\n",
       "      <th>experiment</th>\n",
       "      <th>date</th>\n",
       "      <th>hour</th>\n",
       "      <th>device_make</th>\n",
       "      <th>platform_os</th>\n",
       "      <th>browser</th>\n",
       "      <th>yes</th>\n",
       "      <th>no</th>\n",
       "    </tr>\n",
       "  </thead>\n",
       "  <tbody>\n",
       "    <tr>\n",
       "      <th>0</th>\n",
       "      <td>0008ef63-77a7-448b-bd1e-075f42c55e39</td>\n",
       "      <td>exposed</td>\n",
       "      <td>2020-07-10</td>\n",
       "      <td>8</td>\n",
       "      <td>Generic Smartphone</td>\n",
       "      <td>6</td>\n",
       "      <td>Chrome Mobile</td>\n",
       "      <td>0</td>\n",
       "      <td>0</td>\n",
       "    </tr>\n",
       "    <tr>\n",
       "      <th>1</th>\n",
       "      <td>000eabc5-17ce-4137-8efe-44734d914446</td>\n",
       "      <td>exposed</td>\n",
       "      <td>2020-07-07</td>\n",
       "      <td>10</td>\n",
       "      <td>Generic Smartphone</td>\n",
       "      <td>6</td>\n",
       "      <td>Chrome Mobile</td>\n",
       "      <td>0</td>\n",
       "      <td>0</td>\n",
       "    </tr>\n",
       "    <tr>\n",
       "      <th>2</th>\n",
       "      <td>0016d14a-ae18-4a02-a204-6ba53b52f2ed</td>\n",
       "      <td>exposed</td>\n",
       "      <td>2020-07-05</td>\n",
       "      <td>2</td>\n",
       "      <td>E5823</td>\n",
       "      <td>6</td>\n",
       "      <td>Chrome Mobile WebView</td>\n",
       "      <td>0</td>\n",
       "      <td>1</td>\n",
       "    </tr>\n",
       "    <tr>\n",
       "      <th>3</th>\n",
       "      <td>00187412-2932-4542-a8ef-3633901c98d9</td>\n",
       "      <td>control</td>\n",
       "      <td>2020-07-03</td>\n",
       "      <td>15</td>\n",
       "      <td>Samsung SM-A705FN</td>\n",
       "      <td>6</td>\n",
       "      <td>Facebook</td>\n",
       "      <td>0</td>\n",
       "      <td>0</td>\n",
       "    </tr>\n",
       "    <tr>\n",
       "      <th>4</th>\n",
       "      <td>001a7785-d3fe-4e11-a344-c8735acacc2c</td>\n",
       "      <td>control</td>\n",
       "      <td>2020-07-03</td>\n",
       "      <td>15</td>\n",
       "      <td>Generic Smartphone</td>\n",
       "      <td>6</td>\n",
       "      <td>Chrome Mobile</td>\n",
       "      <td>0</td>\n",
       "      <td>0</td>\n",
       "    </tr>\n",
       "  </tbody>\n",
       "</table>\n",
       "</div>"
      ],
      "text/plain": [
       "                             auction_id experiment        date  hour  \\\n",
       "0  0008ef63-77a7-448b-bd1e-075f42c55e39    exposed  2020-07-10     8   \n",
       "1  000eabc5-17ce-4137-8efe-44734d914446    exposed  2020-07-07    10   \n",
       "2  0016d14a-ae18-4a02-a204-6ba53b52f2ed    exposed  2020-07-05     2   \n",
       "3  00187412-2932-4542-a8ef-3633901c98d9    control  2020-07-03    15   \n",
       "4  001a7785-d3fe-4e11-a344-c8735acacc2c    control  2020-07-03    15   \n",
       "\n",
       "          device_make  platform_os                browser  yes  no  \n",
       "0  Generic Smartphone            6          Chrome Mobile    0   0  \n",
       "1  Generic Smartphone            6          Chrome Mobile    0   0  \n",
       "2               E5823            6  Chrome Mobile WebView    0   1  \n",
       "3   Samsung SM-A705FN            6               Facebook    0   0  \n",
       "4  Generic Smartphone            6          Chrome Mobile    0   0  "
      ]
     },
     "execution_count": 49,
     "metadata": {},
     "output_type": "execute_result"
    }
   ],
   "source": [
    "import warnings\n",
    "warnings.filterwarnings('ignore')\n",
    "\n",
    "df = pd.read_csv('../data/AdSmartABdata.csv')\n",
    "df.head()"
   ]
  },
  {
   "cell_type": "code",
   "execution_count": 50,
   "id": "aba86bde",
   "metadata": {},
   "outputs": [
    {
     "data": {
      "text/plain": [
       "(8077, 9)"
      ]
     },
     "execution_count": 50,
     "metadata": {},
     "output_type": "execute_result"
    }
   ],
   "source": [
    "df.shape"
   ]
  },
  {
   "cell_type": "code",
   "execution_count": 51,
   "id": "b4120f77",
   "metadata": {},
   "outputs": [],
   "source": [
    "from data_cleaning import DataCleaning "
   ]
  },
  {
   "cell_type": "code",
   "execution_count": 52,
   "id": "57922dcc",
   "metadata": {},
   "outputs": [],
   "source": [
    "#creating an object\n",
    "data=DataCleaning(df)"
   ]
  },
  {
   "cell_type": "code",
   "execution_count": 53,
   "id": "6107eaa3",
   "metadata": {},
   "outputs": [
    {
     "name": "stdout",
     "output_type": "stream",
     "text": [
      "The Telecom dataset contains 0.0 % missing values.\n"
     ]
    },
    {
     "data": {
      "text/html": [
       "<div>\n",
       "<style scoped>\n",
       "    .dataframe tbody tr th:only-of-type {\n",
       "        vertical-align: middle;\n",
       "    }\n",
       "\n",
       "    .dataframe tbody tr th {\n",
       "        vertical-align: top;\n",
       "    }\n",
       "\n",
       "    .dataframe thead th {\n",
       "        text-align: right;\n",
       "    }\n",
       "</style>\n",
       "<table border=\"1\" class=\"dataframe\">\n",
       "  <thead>\n",
       "    <tr style=\"text-align: right;\">\n",
       "      <th></th>\n",
       "      <th>auction_id</th>\n",
       "      <th>experiment</th>\n",
       "      <th>date</th>\n",
       "      <th>hour</th>\n",
       "      <th>device_make</th>\n",
       "      <th>platform_os</th>\n",
       "      <th>browser</th>\n",
       "      <th>yes</th>\n",
       "      <th>no</th>\n",
       "    </tr>\n",
       "  </thead>\n",
       "  <tbody>\n",
       "    <tr>\n",
       "      <th>0</th>\n",
       "      <td>0008ef63-77a7-448b-bd1e-075f42c55e39</td>\n",
       "      <td>exposed</td>\n",
       "      <td>2020-07-10</td>\n",
       "      <td>8</td>\n",
       "      <td>Generic Smartphone</td>\n",
       "      <td>6</td>\n",
       "      <td>Chrome Mobile</td>\n",
       "      <td>0</td>\n",
       "      <td>0</td>\n",
       "    </tr>\n",
       "    <tr>\n",
       "      <th>1</th>\n",
       "      <td>000eabc5-17ce-4137-8efe-44734d914446</td>\n",
       "      <td>exposed</td>\n",
       "      <td>2020-07-07</td>\n",
       "      <td>10</td>\n",
       "      <td>Generic Smartphone</td>\n",
       "      <td>6</td>\n",
       "      <td>Chrome Mobile</td>\n",
       "      <td>0</td>\n",
       "      <td>0</td>\n",
       "    </tr>\n",
       "    <tr>\n",
       "      <th>2</th>\n",
       "      <td>0016d14a-ae18-4a02-a204-6ba53b52f2ed</td>\n",
       "      <td>exposed</td>\n",
       "      <td>2020-07-05</td>\n",
       "      <td>2</td>\n",
       "      <td>E5823</td>\n",
       "      <td>6</td>\n",
       "      <td>Chrome Mobile WebView</td>\n",
       "      <td>0</td>\n",
       "      <td>1</td>\n",
       "    </tr>\n",
       "    <tr>\n",
       "      <th>3</th>\n",
       "      <td>00187412-2932-4542-a8ef-3633901c98d9</td>\n",
       "      <td>control</td>\n",
       "      <td>2020-07-03</td>\n",
       "      <td>15</td>\n",
       "      <td>Samsung SM-A705FN</td>\n",
       "      <td>6</td>\n",
       "      <td>Facebook</td>\n",
       "      <td>0</td>\n",
       "      <td>0</td>\n",
       "    </tr>\n",
       "    <tr>\n",
       "      <th>4</th>\n",
       "      <td>001a7785-d3fe-4e11-a344-c8735acacc2c</td>\n",
       "      <td>control</td>\n",
       "      <td>2020-07-03</td>\n",
       "      <td>15</td>\n",
       "      <td>Generic Smartphone</td>\n",
       "      <td>6</td>\n",
       "      <td>Chrome Mobile</td>\n",
       "      <td>0</td>\n",
       "      <td>0</td>\n",
       "    </tr>\n",
       "  </tbody>\n",
       "</table>\n",
       "</div>"
      ],
      "text/plain": [
       "                             auction_id experiment        date  hour  \\\n",
       "0  0008ef63-77a7-448b-bd1e-075f42c55e39    exposed  2020-07-10     8   \n",
       "1  000eabc5-17ce-4137-8efe-44734d914446    exposed  2020-07-07    10   \n",
       "2  0016d14a-ae18-4a02-a204-6ba53b52f2ed    exposed  2020-07-05     2   \n",
       "3  00187412-2932-4542-a8ef-3633901c98d9    control  2020-07-03    15   \n",
       "4  001a7785-d3fe-4e11-a344-c8735acacc2c    control  2020-07-03    15   \n",
       "\n",
       "          device_make  platform_os                browser  yes  no  \n",
       "0  Generic Smartphone            6          Chrome Mobile    0   0  \n",
       "1  Generic Smartphone            6          Chrome Mobile    0   0  \n",
       "2               E5823            6  Chrome Mobile WebView    0   1  \n",
       "3   Samsung SM-A705FN            6               Facebook    0   0  \n",
       "4  Generic Smartphone            6          Chrome Mobile    0   0  "
      ]
     },
     "execution_count": 53,
     "metadata": {},
     "output_type": "execute_result"
    }
   ],
   "source": [
    "#check if the data has null values\n",
    "data.percent_missing(df)\n",
    "df.head()"
   ]
  },
  {
   "cell_type": "markdown",
   "id": "c7e36b1d",
   "metadata": {},
   "source": [
    ">Our dataset has no missing value and ready for further exploration."
   ]
  },
  {
   "cell_type": "code",
   "execution_count": 54,
   "id": "c5358d47",
   "metadata": {},
   "outputs": [
    {
     "name": "stdout",
     "output_type": "stream",
     "text": [
      "The data has 0 repeated users.\n"
     ]
    },
    {
     "data": {
      "text/html": [
       "<div>\n",
       "<style scoped>\n",
       "    .dataframe tbody tr th:only-of-type {\n",
       "        vertical-align: middle;\n",
       "    }\n",
       "\n",
       "    .dataframe tbody tr th {\n",
       "        vertical-align: top;\n",
       "    }\n",
       "\n",
       "    .dataframe thead th {\n",
       "        text-align: right;\n",
       "    }\n",
       "</style>\n",
       "<table border=\"1\" class=\"dataframe\">\n",
       "  <thead>\n",
       "    <tr style=\"text-align: right;\">\n",
       "      <th></th>\n",
       "      <th>auction_id</th>\n",
       "      <th>experiment</th>\n",
       "      <th>date</th>\n",
       "      <th>hour</th>\n",
       "      <th>device_make</th>\n",
       "      <th>platform_os</th>\n",
       "      <th>browser</th>\n",
       "      <th>yes</th>\n",
       "      <th>no</th>\n",
       "    </tr>\n",
       "  </thead>\n",
       "  <tbody>\n",
       "    <tr>\n",
       "      <th>0</th>\n",
       "      <td>0008ef63-77a7-448b-bd1e-075f42c55e39</td>\n",
       "      <td>exposed</td>\n",
       "      <td>2020-07-10</td>\n",
       "      <td>8</td>\n",
       "      <td>Generic Smartphone</td>\n",
       "      <td>6</td>\n",
       "      <td>Chrome Mobile</td>\n",
       "      <td>0</td>\n",
       "      <td>0</td>\n",
       "    </tr>\n",
       "    <tr>\n",
       "      <th>1</th>\n",
       "      <td>000eabc5-17ce-4137-8efe-44734d914446</td>\n",
       "      <td>exposed</td>\n",
       "      <td>2020-07-07</td>\n",
       "      <td>10</td>\n",
       "      <td>Generic Smartphone</td>\n",
       "      <td>6</td>\n",
       "      <td>Chrome Mobile</td>\n",
       "      <td>0</td>\n",
       "      <td>0</td>\n",
       "    </tr>\n",
       "    <tr>\n",
       "      <th>2</th>\n",
       "      <td>0016d14a-ae18-4a02-a204-6ba53b52f2ed</td>\n",
       "      <td>exposed</td>\n",
       "      <td>2020-07-05</td>\n",
       "      <td>2</td>\n",
       "      <td>E5823</td>\n",
       "      <td>6</td>\n",
       "      <td>Chrome Mobile WebView</td>\n",
       "      <td>0</td>\n",
       "      <td>1</td>\n",
       "    </tr>\n",
       "    <tr>\n",
       "      <th>3</th>\n",
       "      <td>00187412-2932-4542-a8ef-3633901c98d9</td>\n",
       "      <td>control</td>\n",
       "      <td>2020-07-03</td>\n",
       "      <td>15</td>\n",
       "      <td>Samsung SM-A705FN</td>\n",
       "      <td>6</td>\n",
       "      <td>Facebook</td>\n",
       "      <td>0</td>\n",
       "      <td>0</td>\n",
       "    </tr>\n",
       "    <tr>\n",
       "      <th>4</th>\n",
       "      <td>001a7785-d3fe-4e11-a344-c8735acacc2c</td>\n",
       "      <td>control</td>\n",
       "      <td>2020-07-03</td>\n",
       "      <td>15</td>\n",
       "      <td>Generic Smartphone</td>\n",
       "      <td>6</td>\n",
       "      <td>Chrome Mobile</td>\n",
       "      <td>0</td>\n",
       "      <td>0</td>\n",
       "    </tr>\n",
       "  </tbody>\n",
       "</table>\n",
       "</div>"
      ],
      "text/plain": [
       "                             auction_id experiment        date  hour  \\\n",
       "0  0008ef63-77a7-448b-bd1e-075f42c55e39    exposed  2020-07-10     8   \n",
       "1  000eabc5-17ce-4137-8efe-44734d914446    exposed  2020-07-07    10   \n",
       "2  0016d14a-ae18-4a02-a204-6ba53b52f2ed    exposed  2020-07-05     2   \n",
       "3  00187412-2932-4542-a8ef-3633901c98d9    control  2020-07-03    15   \n",
       "4  001a7785-d3fe-4e11-a344-c8735acacc2c    control  2020-07-03    15   \n",
       "\n",
       "          device_make  platform_os                browser  yes  no  \n",
       "0  Generic Smartphone            6          Chrome Mobile    0   0  \n",
       "1  Generic Smartphone            6          Chrome Mobile    0   0  \n",
       "2               E5823            6  Chrome Mobile WebView    0   1  \n",
       "3   Samsung SM-A705FN            6               Facebook    0   0  \n",
       "4  Generic Smartphone            6          Chrome Mobile    0   0  "
      ]
     },
     "execution_count": 54,
     "metadata": {},
     "output_type": "execute_result"
    }
   ],
   "source": [
    "#check if it have duplicate user id\n",
    "data.unique_users(df)\n",
    "df.head()"
   ]
  },
  {
   "cell_type": "code",
   "execution_count": 55,
   "id": "dc9dcd20",
   "metadata": {},
   "outputs": [
    {
     "name": "stdout",
     "output_type": "stream",
     "text": [
      "<class 'pandas.core.frame.DataFrame'>\n",
      "RangeIndex: 8077 entries, 0 to 8076\n",
      "Data columns (total 9 columns):\n",
      " #   Column       Non-Null Count  Dtype \n",
      "---  ------       --------------  ----- \n",
      " 0   auction_id   8077 non-null   object\n",
      " 1   experiment   8077 non-null   object\n",
      " 2   date         8077 non-null   object\n",
      " 3   hour         8077 non-null   int64 \n",
      " 4   device_make  8077 non-null   object\n",
      " 5   platform_os  8077 non-null   int64 \n",
      " 6   browser      8077 non-null   object\n",
      " 7   yes          8077 non-null   int64 \n",
      " 8   no           8077 non-null   int64 \n",
      "dtypes: int64(4), object(5)\n",
      "memory usage: 568.0+ KB\n"
     ]
    }
   ],
   "source": [
    "df.info()"
   ]
  },
  {
   "cell_type": "code",
   "execution_count": 56,
   "id": "7fad5079",
   "metadata": {},
   "outputs": [
    {
     "name": "stdout",
     "output_type": "stream",
     "text": [
      "Numerical Columns: ['hour', 'platform_os', 'yes', 'no']\n",
      "****************\n",
      "Categorical Columns: ['auction_id', 'experiment', 'date', 'device_make', 'browser']\n"
     ]
    }
   ],
   "source": [
    "#categorical vs. numerical\n",
    "numerical_column = df.select_dtypes(exclude=\"object\").columns.tolist()\n",
    "categorical_column = df.select_dtypes(include=\"object\").columns.tolist()\n",
    "print(\"Numerical Columns:\", numerical_column)\n",
    "print(\"****************\")\n",
    "print(\"Categorical Columns:\", categorical_column)"
   ]
  },
  {
   "cell_type": "code",
   "execution_count": 57,
   "id": "b65b5282",
   "metadata": {},
   "outputs": [
    {
     "name": "stdout",
     "output_type": "stream",
     "text": [
      "no repeated impression id\n"
     ]
    }
   ],
   "source": [
    "if(df.nunique()['auction_id']==8077):\n",
    "    print(\"no repeated impression id\")"
   ]
  },
  {
   "cell_type": "code",
   "execution_count": 58,
   "id": "396e1230",
   "metadata": {},
   "outputs": [
    {
     "name": "stdout",
     "output_type": "stream",
     "text": [
      "users that belong to control group is 4071\n",
      "users that belong to exposed group is 4006\n"
     ]
    }
   ],
   "source": [
    "aggregat_contorl = df.groupby('experiment').agg({'auction_id': 'count'})['auction_id']['control']\n",
    "aggregat_exposed  = df.groupby('experiment').agg({'auction_id': 'count'})['auction_id']['exposed']\n",
    "\n",
    "print(f\"users that belong to control group is {aggregat_contorl}\")\n",
    "print(f\"users that belong to exposed group is {aggregat_exposed}\")"
   ]
  },
  {
   "cell_type": "markdown",
   "id": "31e60515",
   "metadata": {},
   "source": [
    ">4071 users from the experiment are control group while,4006 are from the belong to exposed group"
   ]
  },
  {
   "cell_type": "markdown",
   "id": "ce1d77b7",
   "metadata": {},
   "source": [
    "* if both section of yes and no is 0, then the users didn't answered\n",
    "* let us filter out those who answered either yes or no"
   ]
  },
  {
   "cell_type": "code",
   "execution_count": 59,
   "id": "f304411a",
   "metadata": {},
   "outputs": [
    {
     "name": "stdout",
     "output_type": "stream",
     "text": [
      "There are 1243 rows and 9 columns\n"
     ]
    }
   ],
   "source": [
    "answered = df.query('yes==1 or no==1')\n",
    "print(f\"There are {answered.shape[0]} rows and {answered.shape[1]} columns\")"
   ]
  },
  {
   "cell_type": "code",
   "execution_count": 60,
   "id": "ac98baed",
   "metadata": {},
   "outputs": [
    {
     "data": {
      "image/png": "[encoded data removed]",
      "text/plain": [
       "<Figure size 432x288 with 1 Axes>"
      ]
     },
     "metadata": {},
     "output_type": "display_data"
    }
   ],
   "source": [
    "#Visualizing experiment using barplot\n",
    "sns.set()\n",
    "df['experiment'].value_counts().plot(kind='bar')\n",
    "plt.title('Bar plot',fontsize=15)\n",
    "plt.xlabel('experiment',fontsize=12),plt.ylabel('count',fontsize=12)\n",
    "plt.show()\n"
   ]
  },
  {
   "cell_type": "markdown",
   "id": "308fc7b4",
   "metadata": {},
   "source": [
    ">The number of exposed users and controled users are very close"
   ]
  },
  {
   "cell_type": "markdown",
   "id": "bdd03bc5",
   "metadata": {},
   "source": [
    "### Task 1.1: Understanding A/B testing framework "
   ]
  },
  {
   "cell_type": "code",
   "execution_count": 61,
   "id": "ee4a3424",
   "metadata": {},
   "outputs": [
    {
     "data": {
      "image/png": "[encoded data removed]",
      "text/plain": [
       "<Figure size 432x288 with 1 Axes>"
      ]
     },
     "metadata": {},
     "output_type": "display_data"
    },
    {
     "name": "stdout",
     "output_type": "stream",
     "text": [
      "Number of users who repsonded positively in the controled group are 264\n",
      "while 322 who responded negatively\n",
      "Number of users who repsonded positively in the exposed group are 308\n",
      "while 349 who responded negatively\n"
     ]
    }
   ],
   "source": [
    "# Identifying the exposed group and control group\n",
    "exposed_df = df[df['experiment'] == 'exposed']\n",
    "\n",
    "control_df = df[df['experiment'] == 'control']\n",
    "\n",
    "aggr_response = df.groupby('experiment').agg({'yes': 'sum', 'no': 'sum'}).plot(kind='bar')\n",
    "plt.title(\"The number of yes and no answers per experiment\")\n",
    "plt.show()\n",
    "\n",
    "#get users who repsonded positively in the exposed group\n",
    "control_df_pos_response = control_df[control_df['yes'] == 1]\n",
    "control_df_neg_response = control_df[control_df['no'] == 1]\n",
    "#get users who repsonded positively in the exposed group\n",
    "exposed_pos_response = exposed_df[exposed_df['yes'] == 1]\n",
    "exposed_df_neg_response = exposed_df[exposed_df['no'] == 1]\n",
    "\n",
    "print(f\"Number of users who repsonded positively in the controled group are {control_df_pos_response.shape[0]}\")\n",
    "print(f\"while {control_df_neg_response.shape[0]} who responded negatively\")\n",
    "\n",
    "\n",
    "print(f\"Number of users who repsonded positively in the exposed group are {exposed_pos_response.shape[0]}\")\n",
    "print(f\"while {exposed_df_neg_response.shape[0]} who responded negatively\")"
   ]
  },
  {
   "cell_type": "markdown",
   "id": "315fabec",
   "metadata": {},
   "source": [
    ">Those that are from exposed group responeded in greater number than controled goups.\n",
    ">>264 Users responded postiviely to the dummy Ad from the total 586 Users who responded. <br>\n",
    ">>308 Users responded postively to the creative ad that was designed by SmartAd from the total 657 Users who responeded."
   ]
  },
  {
   "cell_type": "code",
   "execution_count": 62,
   "id": "b8798f2e",
   "metadata": {},
   "outputs": [
    {
     "data": {
      "text/html": [
       "<div>\n",
       "<style scoped>\n",
       "    .dataframe tbody tr th:only-of-type {\n",
       "        vertical-align: middle;\n",
       "    }\n",
       "\n",
       "    .dataframe tbody tr th {\n",
       "        vertical-align: top;\n",
       "    }\n",
       "\n",
       "    .dataframe thead th {\n",
       "        text-align: right;\n",
       "    }\n",
       "</style>\n",
       "<table border=\"1\" class=\"dataframe\">\n",
       "  <thead>\n",
       "    <tr style=\"text-align: right;\">\n",
       "      <th></th>\n",
       "      <th>auction_id</th>\n",
       "      <th>experiment</th>\n",
       "      <th>date</th>\n",
       "      <th>hour</th>\n",
       "      <th>device_make</th>\n",
       "      <th>platform_os</th>\n",
       "      <th>browser</th>\n",
       "      <th>response</th>\n",
       "    </tr>\n",
       "  </thead>\n",
       "  <tbody>\n",
       "    <tr>\n",
       "      <th>0</th>\n",
       "      <td>63b92003-b823-44b6-b5aa-e417668f02ec</td>\n",
       "      <td>exposed</td>\n",
       "      <td>2020-07-05</td>\n",
       "      <td>6</td>\n",
       "      <td>Generic Smartphone</td>\n",
       "      <td>6</td>\n",
       "      <td>Chrome Mobile</td>\n",
       "      <td>0</td>\n",
       "    </tr>\n",
       "    <tr>\n",
       "      <th>1</th>\n",
       "      <td>3aa89a92-a9c2-463b-86a0-8c9f6760e735</td>\n",
       "      <td>exposed</td>\n",
       "      <td>2020-07-04</td>\n",
       "      <td>19</td>\n",
       "      <td>Generic Smartphone</td>\n",
       "      <td>6</td>\n",
       "      <td>Chrome Mobile</td>\n",
       "      <td>1</td>\n",
       "    </tr>\n",
       "    <tr>\n",
       "      <th>2</th>\n",
       "      <td>1862cede-8050-4913-a9f0-45381c323c9e</td>\n",
       "      <td>control</td>\n",
       "      <td>2020-07-03</td>\n",
       "      <td>15</td>\n",
       "      <td>STF-L09</td>\n",
       "      <td>6</td>\n",
       "      <td>Facebook</td>\n",
       "      <td>0</td>\n",
       "    </tr>\n",
       "    <tr>\n",
       "      <th>3</th>\n",
       "      <td>3de1f29e-6f1a-49c7-8e41-96781b228f37</td>\n",
       "      <td>control</td>\n",
       "      <td>2020-07-05</td>\n",
       "      <td>5</td>\n",
       "      <td>Generic Smartphone</td>\n",
       "      <td>6</td>\n",
       "      <td>Chrome Mobile</td>\n",
       "      <td>0</td>\n",
       "    </tr>\n",
       "    <tr>\n",
       "      <th>4</th>\n",
       "      <td>8fcc1807-2048-42c8-be64-e5ce4e00f23d</td>\n",
       "      <td>exposed</td>\n",
       "      <td>2020-07-03</td>\n",
       "      <td>10</td>\n",
       "      <td>EVR-N29</td>\n",
       "      <td>6</td>\n",
       "      <td>Chrome Mobile WebView</td>\n",
       "      <td>0</td>\n",
       "    </tr>\n",
       "  </tbody>\n",
       "</table>\n",
       "</div>"
      ],
      "text/plain": [
       "                             auction_id experiment        date  hour  \\\n",
       "0  63b92003-b823-44b6-b5aa-e417668f02ec    exposed  2020-07-05     6   \n",
       "1  3aa89a92-a9c2-463b-86a0-8c9f6760e735    exposed  2020-07-04    19   \n",
       "2  1862cede-8050-4913-a9f0-45381c323c9e    control  2020-07-03    15   \n",
       "3  3de1f29e-6f1a-49c7-8e41-96781b228f37    control  2020-07-05     5   \n",
       "4  8fcc1807-2048-42c8-be64-e5ce4e00f23d    exposed  2020-07-03    10   \n",
       "\n",
       "          device_make  platform_os                browser  response  \n",
       "0  Generic Smartphone            6          Chrome Mobile         0  \n",
       "1  Generic Smartphone            6          Chrome Mobile         1  \n",
       "2             STF-L09            6               Facebook         0  \n",
       "3  Generic Smartphone            6          Chrome Mobile         0  \n",
       "4             EVR-N29            6  Chrome Mobile WebView         0  "
      ]
     },
     "execution_count": 62,
     "metadata": {},
     "output_type": "execute_result"
    }
   ],
   "source": [
    " #All users who answered yes\n",
    "yes_df = control_df[control_df['yes'] == 1].append(exposed_df[exposed_df['yes'] == 1])\n",
    "yes_df = yes_df.drop(['yes','no'], axis = 1)\n",
    "yes_df['response'] = 1\n",
    "#All users who answered no\n",
    "no_df = control_df[control_df['no'] == 1].append(exposed_df[exposed_df['no'] == 1])\n",
    "no_df = no_df.drop(['yes','no'], axis = 1)\n",
    "no_df['response'] = 0\n",
    "#Final Combined dataframe will be\n",
    "combined_df = yes_df.append(no_df)\n",
    "combined_df = combined_df.sample(frac=1).reset_index(drop=True)\n",
    "combined_df.head(5)"
   ]
  },
  {
   "cell_type": "markdown",
   "id": "8cbd4b71",
   "metadata": {},
   "source": [
    ">All user that responded 'yes' are assigned to 1<br>\n",
    ">All user that responded 'no' are assigned to 0<br>\n",
    ">The results then assigned to response column for better analysis"
   ]
  },
  {
   "cell_type": "markdown",
   "id": "e99b56ce",
   "metadata": {},
   "source": [
    "#### Grouping the result by date"
   ]
  },
  {
   "cell_type": "code",
   "execution_count": 80,
   "id": "4ffefd67",
   "metadata": {},
   "outputs": [
    {
     "data": {
      "text/html": [
       "<div>\n",
       "<style scoped>\n",
       "    .dataframe tbody tr th:only-of-type {\n",
       "        vertical-align: middle;\n",
       "    }\n",
       "\n",
       "    .dataframe tbody tr th {\n",
       "        vertical-align: top;\n",
       "    }\n",
       "\n",
       "    .dataframe thead th {\n",
       "        text-align: right;\n",
       "    }\n",
       "</style>\n",
       "<table border=\"1\" class=\"dataframe\">\n",
       "  <thead>\n",
       "    <tr style=\"text-align: right;\">\n",
       "      <th></th>\n",
       "      <th>experiment</th>\n",
       "      <th>hour</th>\n",
       "      <th>response</th>\n",
       "    </tr>\n",
       "    <tr>\n",
       "      <th>date</th>\n",
       "      <th></th>\n",
       "      <th></th>\n",
       "      <th></th>\n",
       "    </tr>\n",
       "  </thead>\n",
       "  <tbody>\n",
       "    <tr>\n",
       "      <th>2020-07-03</th>\n",
       "      <td>325</td>\n",
       "      <td>4215</td>\n",
       "      <td>147</td>\n",
       "    </tr>\n",
       "    <tr>\n",
       "      <th>2020-07-04</th>\n",
       "      <td>159</td>\n",
       "      <td>1694</td>\n",
       "      <td>76</td>\n",
       "    </tr>\n",
       "    <tr>\n",
       "      <th>2020-07-05</th>\n",
       "      <td>117</td>\n",
       "      <td>1124</td>\n",
       "      <td>52</td>\n",
       "    </tr>\n",
       "    <tr>\n",
       "      <th>2020-07-06</th>\n",
       "      <td>74</td>\n",
       "      <td>417</td>\n",
       "      <td>35</td>\n",
       "    </tr>\n",
       "    <tr>\n",
       "      <th>2020-07-07</th>\n",
       "      <td>83</td>\n",
       "      <td>934</td>\n",
       "      <td>38</td>\n",
       "    </tr>\n",
       "    <tr>\n",
       "      <th>2020-07-08</th>\n",
       "      <td>177</td>\n",
       "      <td>2817</td>\n",
       "      <td>85</td>\n",
       "    </tr>\n",
       "    <tr>\n",
       "      <th>2020-07-09</th>\n",
       "      <td>184</td>\n",
       "      <td>2179</td>\n",
       "      <td>85</td>\n",
       "    </tr>\n",
       "    <tr>\n",
       "      <th>2020-07-10</th>\n",
       "      <td>124</td>\n",
       "      <td>940</td>\n",
       "      <td>54</td>\n",
       "    </tr>\n",
       "  </tbody>\n",
       "</table>\n",
       "</div>"
      ],
      "text/plain": [
       "            experiment  hour  response\n",
       "date                                  \n",
       "2020-07-03         325  4215       147\n",
       "2020-07-04         159  1694        76\n",
       "2020-07-05         117  1124        52\n",
       "2020-07-06          74   417        35\n",
       "2020-07-07          83   934        38\n",
       "2020-07-08         177  2817        85\n",
       "2020-07-09         184  2179        85\n",
       "2020-07-10         124   940        54"
      ]
     },
     "execution_count": 80,
     "metadata": {},
     "output_type": "execute_result"
    }
   ],
   "source": [
    "date_group_df = combined_df.groupby('date').agg({'experiment':'count','hour':'sum','response':'sum'})\n",
    "date_group_df\n"
   ]
  },
  {
   "cell_type": "markdown",
   "id": "29e06c8d",
   "metadata": {},
   "source": [
    ">147 responeses were recorded on date 2020-07-03(Friday)<br>"
   ]
  },
  {
   "cell_type": "code",
   "execution_count": 81,
   "id": "bfab1dc8",
   "metadata": {},
   "outputs": [
    {
     "data": {
      "text/html": [
       "<div>\n",
       "<style scoped>\n",
       "    .dataframe tbody tr th:only-of-type {\n",
       "        vertical-align: middle;\n",
       "    }\n",
       "\n",
       "    .dataframe tbody tr th {\n",
       "        vertical-align: top;\n",
       "    }\n",
       "\n",
       "    .dataframe thead th {\n",
       "        text-align: right;\n",
       "    }\n",
       "</style>\n",
       "<table border=\"1\" class=\"dataframe\">\n",
       "  <thead>\n",
       "    <tr style=\"text-align: right;\">\n",
       "      <th></th>\n",
       "      <th>date</th>\n",
       "      <th>auction_id</th>\n",
       "    </tr>\n",
       "  </thead>\n",
       "  <tbody>\n",
       "    <tr>\n",
       "      <th>0</th>\n",
       "      <td>2020-07-03</td>\n",
       "      <td>2015</td>\n",
       "    </tr>\n",
       "    <tr>\n",
       "      <th>1</th>\n",
       "      <td>2020-07-04</td>\n",
       "      <td>903</td>\n",
       "    </tr>\n",
       "    <tr>\n",
       "      <th>2</th>\n",
       "      <td>2020-07-05</td>\n",
       "      <td>890</td>\n",
       "    </tr>\n",
       "    <tr>\n",
       "      <th>3</th>\n",
       "      <td>2020-07-06</td>\n",
       "      <td>490</td>\n",
       "    </tr>\n",
       "    <tr>\n",
       "      <th>4</th>\n",
       "      <td>2020-07-07</td>\n",
       "      <td>480</td>\n",
       "    </tr>\n",
       "    <tr>\n",
       "      <th>5</th>\n",
       "      <td>2020-07-08</td>\n",
       "      <td>1198</td>\n",
       "    </tr>\n",
       "    <tr>\n",
       "      <th>6</th>\n",
       "      <td>2020-07-09</td>\n",
       "      <td>1208</td>\n",
       "    </tr>\n",
       "    <tr>\n",
       "      <th>7</th>\n",
       "      <td>2020-07-10</td>\n",
       "      <td>893</td>\n",
       "    </tr>\n",
       "  </tbody>\n",
       "</table>\n",
       "</div>"
      ],
      "text/plain": [
       "         date  auction_id\n",
       "0  2020-07-03        2015\n",
       "1  2020-07-04         903\n",
       "2  2020-07-05         890\n",
       "3  2020-07-06         490\n",
       "4  2020-07-07         480\n",
       "5  2020-07-08        1198\n",
       "6  2020-07-09        1208\n",
       "7  2020-07-10         893"
      ]
     },
     "execution_count": 81,
     "metadata": {},
     "output_type": "execute_result"
    }
   ],
   "source": [
    "user_per_day=df.groupby('date')['auction_id'].count().reset_index()\n",
    "user_per_day"
   ]
  },
  {
   "cell_type": "code",
   "execution_count": 84,
   "id": "d58f90e2",
   "metadata": {},
   "outputs": [
    {
     "data": {
      "image/png": "[encoded data removed]",
      "text/plain": [
       "<Figure size 648x432 with 1 Axes>"
      ]
     },
     "metadata": {},
     "output_type": "display_data"
    }
   ],
   "source": [
    "fig, ax = plt.subplots(1,1, figsize=(9, 6))\n",
    "sns.lineplot(x=\"date\", y=\"auction_id\",data=df1)\n",
    "plt.title(\"Number of users per day\",fontsize=18)\n",
    "plt.xlabel('date',fontsize=16)\n",
    "plt.ylabel('No. of users',fontsize=16)\n",
    "plt.xticks(rotation=30)\n",
    "plt.show()"
   ]
  },
  {
   "cell_type": "markdown",
   "id": "af6b86f2",
   "metadata": {},
   "source": [
    ">Highest number of users were recorded on date 2020-07-03(Friday)<br>."
   ]
  },
  {
   "cell_type": "markdown",
   "id": "e62f899f",
   "metadata": {},
   "source": [
    "#### Grouping the results by hour"
   ]
  },
  {
   "cell_type": "code",
   "execution_count": 63,
   "id": "1618d63f",
   "metadata": {},
   "outputs": [
    {
     "data": {
      "text/html": [
       "<div>\n",
       "<style scoped>\n",
       "    .dataframe tbody tr th:only-of-type {\n",
       "        vertical-align: middle;\n",
       "    }\n",
       "\n",
       "    .dataframe tbody tr th {\n",
       "        vertical-align: top;\n",
       "    }\n",
       "\n",
       "    .dataframe thead th {\n",
       "        text-align: right;\n",
       "    }\n",
       "</style>\n",
       "<table border=\"1\" class=\"dataframe\">\n",
       "  <thead>\n",
       "    <tr style=\"text-align: right;\">\n",
       "      <th></th>\n",
       "      <th>hour</th>\n",
       "      <th>Number of users</th>\n",
       "    </tr>\n",
       "  </thead>\n",
       "  <tbody>\n",
       "    <tr>\n",
       "      <th>0</th>\n",
       "      <td>0</td>\n",
       "      <td>31</td>\n",
       "    </tr>\n",
       "    <tr>\n",
       "      <th>1</th>\n",
       "      <td>1</td>\n",
       "      <td>32</td>\n",
       "    </tr>\n",
       "    <tr>\n",
       "      <th>2</th>\n",
       "      <td>2</td>\n",
       "      <td>33</td>\n",
       "    </tr>\n",
       "    <tr>\n",
       "      <th>3</th>\n",
       "      <td>3</td>\n",
       "      <td>44</td>\n",
       "    </tr>\n",
       "    <tr>\n",
       "      <th>4</th>\n",
       "      <td>4</td>\n",
       "      <td>46</td>\n",
       "    </tr>\n",
       "    <tr>\n",
       "      <th>5</th>\n",
       "      <td>5</td>\n",
       "      <td>49</td>\n",
       "    </tr>\n",
       "    <tr>\n",
       "      <th>6</th>\n",
       "      <td>6</td>\n",
       "      <td>50</td>\n",
       "    </tr>\n",
       "    <tr>\n",
       "      <th>7</th>\n",
       "      <td>7</td>\n",
       "      <td>59</td>\n",
       "    </tr>\n",
       "    <tr>\n",
       "      <th>8</th>\n",
       "      <td>8</td>\n",
       "      <td>67</td>\n",
       "    </tr>\n",
       "    <tr>\n",
       "      <th>9</th>\n",
       "      <td>9</td>\n",
       "      <td>57</td>\n",
       "    </tr>\n",
       "    <tr>\n",
       "      <th>10</th>\n",
       "      <td>10</td>\n",
       "      <td>57</td>\n",
       "    </tr>\n",
       "    <tr>\n",
       "      <th>11</th>\n",
       "      <td>11</td>\n",
       "      <td>44</td>\n",
       "    </tr>\n",
       "    <tr>\n",
       "      <th>12</th>\n",
       "      <td>12</td>\n",
       "      <td>42</td>\n",
       "    </tr>\n",
       "    <tr>\n",
       "      <th>13</th>\n",
       "      <td>13</td>\n",
       "      <td>41</td>\n",
       "    </tr>\n",
       "    <tr>\n",
       "      <th>14</th>\n",
       "      <td>14</td>\n",
       "      <td>51</td>\n",
       "    </tr>\n",
       "    <tr>\n",
       "      <th>15</th>\n",
       "      <td>15</td>\n",
       "      <td>281</td>\n",
       "    </tr>\n",
       "    <tr>\n",
       "      <th>16</th>\n",
       "      <td>16</td>\n",
       "      <td>44</td>\n",
       "    </tr>\n",
       "    <tr>\n",
       "      <th>17</th>\n",
       "      <td>17</td>\n",
       "      <td>34</td>\n",
       "    </tr>\n",
       "    <tr>\n",
       "      <th>18</th>\n",
       "      <td>18</td>\n",
       "      <td>38</td>\n",
       "    </tr>\n",
       "    <tr>\n",
       "      <th>19</th>\n",
       "      <td>19</td>\n",
       "      <td>38</td>\n",
       "    </tr>\n",
       "    <tr>\n",
       "      <th>20</th>\n",
       "      <td>20</td>\n",
       "      <td>45</td>\n",
       "    </tr>\n",
       "    <tr>\n",
       "      <th>21</th>\n",
       "      <td>21</td>\n",
       "      <td>34</td>\n",
       "    </tr>\n",
       "    <tr>\n",
       "      <th>22</th>\n",
       "      <td>22</td>\n",
       "      <td>21</td>\n",
       "    </tr>\n",
       "    <tr>\n",
       "      <th>23</th>\n",
       "      <td>23</td>\n",
       "      <td>5</td>\n",
       "    </tr>\n",
       "  </tbody>\n",
       "</table>\n",
       "</div>"
      ],
      "text/plain": [
       "    hour  Number of users\n",
       "0      0               31\n",
       "1      1               32\n",
       "2      2               33\n",
       "3      3               44\n",
       "4      4               46\n",
       "5      5               49\n",
       "6      6               50\n",
       "7      7               59\n",
       "8      8               67\n",
       "9      9               57\n",
       "10    10               57\n",
       "11    11               44\n",
       "12    12               42\n",
       "13    13               41\n",
       "14    14               51\n",
       "15    15              281\n",
       "16    16               44\n",
       "17    17               34\n",
       "18    18               38\n",
       "19    19               38\n",
       "20    20               45\n",
       "21    21               34\n",
       "22    22               21\n",
       "23    23                5"
      ]
     },
     "execution_count": 63,
     "metadata": {},
     "output_type": "execute_result"
    }
   ],
   "source": [
    "hour_data = combined_df.groupby(['hour']).agg({'hour': ['count']})\n",
    "hour_data.columns = ['Number of users']\n",
    "hour_data = hour_data.reset_index()\n",
    "hour_data"
   ]
  },
  {
   "cell_type": "code",
   "execution_count": 64,
   "id": "7918e868",
   "metadata": {},
   "outputs": [
    {
     "data": {
      "image/png": "[encoded data removed]",
      "text/plain": [
       "<Figure size 432x288 with 1 Axes>"
      ]
     },
     "metadata": {},
     "output_type": "display_data"
    }
   ],
   "source": [
    "combined_df['hour'].hist(color='dodgerblue')\n",
    "plt.xlabel('Hours',fontsize=10)\n",
    "plt.ylabel('Number of users',fontsize=10)\n",
    "plt.title('Distribution of users in different hours',fontsize=15)\n",
    "plt.show()"
   ]
  },
  {
   "cell_type": "markdown",
   "id": "e61b7b69",
   "metadata": {},
   "source": [
    ">Highest number of users were recorded at the 15th hour"
   ]
  },
  {
   "cell_type": "markdown",
   "id": "5978c0c8",
   "metadata": {},
   "source": [
    "#### Grouping the result by browser"
   ]
  },
  {
   "cell_type": "code",
   "execution_count": 65,
   "id": "c8d5791e",
   "metadata": {},
   "outputs": [
    {
     "data": {
      "text/html": [
       "<div>\n",
       "<style scoped>\n",
       "    .dataframe tbody tr th:only-of-type {\n",
       "        vertical-align: middle;\n",
       "    }\n",
       "\n",
       "    .dataframe tbody tr th {\n",
       "        vertical-align: top;\n",
       "    }\n",
       "\n",
       "    .dataframe thead th {\n",
       "        text-align: right;\n",
       "    }\n",
       "</style>\n",
       "<table border=\"1\" class=\"dataframe\">\n",
       "  <thead>\n",
       "    <tr style=\"text-align: right;\">\n",
       "      <th></th>\n",
       "      <th>experiment</th>\n",
       "      <th>hour</th>\n",
       "      <th>response</th>\n",
       "    </tr>\n",
       "    <tr>\n",
       "      <th>browser</th>\n",
       "      <th></th>\n",
       "      <th></th>\n",
       "      <th></th>\n",
       "    </tr>\n",
       "  </thead>\n",
       "  <tbody>\n",
       "    <tr>\n",
       "      <th>Chrome</th>\n",
       "      <td>2</td>\n",
       "      <td>27</td>\n",
       "      <td>1</td>\n",
       "    </tr>\n",
       "    <tr>\n",
       "      <th>Chrome Mobile</th>\n",
       "      <td>695</td>\n",
       "      <td>8041</td>\n",
       "      <td>314</td>\n",
       "    </tr>\n",
       "    <tr>\n",
       "      <th>Chrome Mobile WebView</th>\n",
       "      <td>227</td>\n",
       "      <td>2403</td>\n",
       "      <td>116</td>\n",
       "    </tr>\n",
       "    <tr>\n",
       "      <th>Chrome Mobile iOS</th>\n",
       "      <td>1</td>\n",
       "      <td>11</td>\n",
       "      <td>1</td>\n",
       "    </tr>\n",
       "    <tr>\n",
       "      <th>Facebook</th>\n",
       "      <td>156</td>\n",
       "      <td>1957</td>\n",
       "      <td>69</td>\n",
       "    </tr>\n",
       "    <tr>\n",
       "      <th>Mobile Safari</th>\n",
       "      <td>14</td>\n",
       "      <td>123</td>\n",
       "      <td>4</td>\n",
       "    </tr>\n",
       "    <tr>\n",
       "      <th>Mobile Safari UI/WKWebView</th>\n",
       "      <td>3</td>\n",
       "      <td>46</td>\n",
       "      <td>0</td>\n",
       "    </tr>\n",
       "    <tr>\n",
       "      <th>Samsung Internet</th>\n",
       "      <td>145</td>\n",
       "      <td>1712</td>\n",
       "      <td>67</td>\n",
       "    </tr>\n",
       "  </tbody>\n",
       "</table>\n",
       "</div>"
      ],
      "text/plain": [
       "                            experiment  hour  response\n",
       "browser                                               \n",
       "Chrome                               2    27         1\n",
       "Chrome Mobile                      695  8041       314\n",
       "Chrome Mobile WebView              227  2403       116\n",
       "Chrome Mobile iOS                    1    11         1\n",
       "Facebook                           156  1957        69\n",
       "Mobile Safari                       14   123         4\n",
       "Mobile Safari UI/WKWebView           3    46         0\n",
       "Samsung Internet                   145  1712        67"
      ]
     },
     "execution_count": 65,
     "metadata": {},
     "output_type": "execute_result"
    }
   ],
   "source": [
    "browser_group_df = combined_df.groupby('browser').agg(\n",
    "    {'experiment': 'count', 'hour': 'sum', 'response': 'sum'})\n",
    "browser_group_df"
   ]
  },
  {
   "cell_type": "markdown",
   "id": "3fa01e11",
   "metadata": {},
   "source": [
    ">Highest number of response were recorded on Chrome mobile"
   ]
  },
  {
   "cell_type": "markdown",
   "id": "2d8ae451",
   "metadata": {},
   "source": [
    "* PLOT OF USED BROWSERS"
   ]
  },
  {
   "cell_type": "code",
   "execution_count": 66,
   "id": "a9405665",
   "metadata": {},
   "outputs": [
    {
     "data": {
      "text/plain": [
       "Text(0.5, 1.0, 'Used Browsers')"
      ]
     },
     "execution_count": 66,
     "metadata": {},
     "output_type": "execute_result"
    },
    {
     "data": {
      "image/png": "[encoded data removed]",
      "text/plain": [
       "<Figure size 648x504 with 1 Axes>"
      ]
     },
     "metadata": {},
     "output_type": "display_data"
    }
   ],
   "source": [
    "plt.figure(figsize=(9,7))\n",
    "ax= sns.countplot(x ='browser', data = df) \n",
    "ax.set_xticklabels(ax.get_xticklabels(), rotation=60, ha=\"right\")\n",
    "plt.tight_layout()\n",
    "ax.set_xlabel('Browser', fontsize=15)\n",
    "ax.set_ylabel('Count' , fontsize=15)\n",
    "ax.set_title('Used Browsers', fontsize=15, fontweight='bold')"
   ]
  },
  {
   "cell_type": "markdown",
   "id": "a201c959",
   "metadata": {},
   "source": [
    "* PLOT FOR DATE"
   ]
  },
  {
   "cell_type": "code",
   "execution_count": 15,
   "id": "847c6484",
   "metadata": {},
   "outputs": [
    {
     "data": {
      "image/png": "[encoded data removed]",
      "text/plain": [
       "<Figure size 864x504 with 1 Axes>"
      ]
     },
     "metadata": {
      "needs_background": "light"
     },
     "output_type": "display_data"
    }
   ],
   "source": [
    "def plot_count(df:pd.DataFrame, column:str) -> None:\n",
    "    plt.figure(figsize=(12, 7))\n",
    "    sns.countplot(data=df, x=column)\n",
    "    plt.title(f'Plot count of {column}', size=20, fontweight='bold')\n",
    "    \n",
    "plot_count(answered, 'date')"
   ]
  },
  {
   "cell_type": "markdown",
   "id": "1c9f572d",
   "metadata": {},
   "source": [
    "* Most of the data was collected on the first date"
   ]
  },
  {
   "cell_type": "markdown",
   "id": "5f01d6aa",
   "metadata": {},
   "source": [
    "#### Grouping the result by device"
   ]
  },
  {
   "cell_type": "code",
   "execution_count": 21,
   "id": "8db8a7be",
   "metadata": {},
   "outputs": [
    {
     "data": {
      "text/html": [
       "<div>\n",
       "<style scoped>\n",
       "    .dataframe tbody tr th:only-of-type {\n",
       "        vertical-align: middle;\n",
       "    }\n",
       "\n",
       "    .dataframe tbody tr th {\n",
       "        vertical-align: top;\n",
       "    }\n",
       "\n",
       "    .dataframe thead th {\n",
       "        text-align: right;\n",
       "    }\n",
       "</style>\n",
       "<table border=\"1\" class=\"dataframe\">\n",
       "  <thead>\n",
       "    <tr style=\"text-align: right;\">\n",
       "      <th></th>\n",
       "      <th>experiment</th>\n",
       "      <th>hour</th>\n",
       "      <th>response</th>\n",
       "    </tr>\n",
       "    <tr>\n",
       "      <th>device_make</th>\n",
       "      <th></th>\n",
       "      <th></th>\n",
       "      <th></th>\n",
       "    </tr>\n",
       "  </thead>\n",
       "  <tbody>\n",
       "    <tr>\n",
       "      <th>A0001</th>\n",
       "      <td>1</td>\n",
       "      <td>9</td>\n",
       "      <td>1</td>\n",
       "    </tr>\n",
       "    <tr>\n",
       "      <th>ANE-LX1</th>\n",
       "      <td>6</td>\n",
       "      <td>66</td>\n",
       "      <td>3</td>\n",
       "    </tr>\n",
       "    <tr>\n",
       "      <th>CLT-L09</th>\n",
       "      <td>5</td>\n",
       "      <td>58</td>\n",
       "      <td>0</td>\n",
       "    </tr>\n",
       "    <tr>\n",
       "      <th>DLI-L22</th>\n",
       "      <td>1</td>\n",
       "      <td>10</td>\n",
       "      <td>0</td>\n",
       "    </tr>\n",
       "    <tr>\n",
       "      <th>E5823</th>\n",
       "      <td>1</td>\n",
       "      <td>2</td>\n",
       "      <td>0</td>\n",
       "    </tr>\n",
       "    <tr>\n",
       "      <th>ELE-L09</th>\n",
       "      <td>4</td>\n",
       "      <td>47</td>\n",
       "      <td>3</td>\n",
       "    </tr>\n",
       "    <tr>\n",
       "      <th>ELE-L29</th>\n",
       "      <td>2</td>\n",
       "      <td>22</td>\n",
       "      <td>1</td>\n",
       "    </tr>\n",
       "    <tr>\n",
       "      <th>EML-L09</th>\n",
       "      <td>1</td>\n",
       "      <td>15</td>\n",
       "      <td>0</td>\n",
       "    </tr>\n",
       "    <tr>\n",
       "      <th>EVA-L09</th>\n",
       "      <td>1</td>\n",
       "      <td>21</td>\n",
       "      <td>1</td>\n",
       "    </tr>\n",
       "    <tr>\n",
       "      <th>EVR-N29</th>\n",
       "      <td>1</td>\n",
       "      <td>10</td>\n",
       "      <td>0</td>\n",
       "    </tr>\n",
       "    <tr>\n",
       "      <th>F3311</th>\n",
       "      <td>1</td>\n",
       "      <td>13</td>\n",
       "      <td>1</td>\n",
       "    </tr>\n",
       "    <tr>\n",
       "      <th>FIG-LX1</th>\n",
       "      <td>2</td>\n",
       "      <td>22</td>\n",
       "      <td>2</td>\n",
       "    </tr>\n",
       "    <tr>\n",
       "      <th>G3311</th>\n",
       "      <td>2</td>\n",
       "      <td>25</td>\n",
       "      <td>1</td>\n",
       "    </tr>\n",
       "    <tr>\n",
       "      <th>Generic Smartphone</th>\n",
       "      <td>719</td>\n",
       "      <td>8346</td>\n",
       "      <td>321</td>\n",
       "    </tr>\n",
       "    <tr>\n",
       "      <th>HTC 10</th>\n",
       "      <td>1</td>\n",
       "      <td>19</td>\n",
       "      <td>0</td>\n",
       "    </tr>\n",
       "  </tbody>\n",
       "</table>\n",
       "</div>"
      ],
      "text/plain": [
       "                    experiment  hour  response\n",
       "device_make                                   \n",
       "A0001                        1     9         1\n",
       "ANE-LX1                      6    66         3\n",
       "CLT-L09                      5    58         0\n",
       "DLI-L22                      1    10         0\n",
       "E5823                        1     2         0\n",
       "ELE-L09                      4    47         3\n",
       "ELE-L29                      2    22         1\n",
       "EML-L09                      1    15         0\n",
       "EVA-L09                      1    21         1\n",
       "EVR-N29                      1    10         0\n",
       "F3311                        1    13         1\n",
       "FIG-LX1                      2    22         2\n",
       "G3311                        2    25         1\n",
       "Generic Smartphone         719  8346       321\n",
       "HTC 10                       1    19         0"
      ]
     },
     "execution_count": 21,
     "metadata": {},
     "output_type": "execute_result"
    }
   ],
   "source": [
    "date_group_df = combined_df.groupby('device_make').agg(\n",
    "    {'experiment': 'count', 'hour': 'sum', 'response': 'sum'})\n",
    "date_group_df.head(15)"
   ]
  },
  {
   "cell_type": "markdown",
   "id": "7c559d82",
   "metadata": {},
   "source": [
    ">Highest number of response were recorded by different device"
   ]
  },
  {
   "cell_type": "code",
   "execution_count": 22,
   "id": "d2112c2e",
   "metadata": {},
   "outputs": [
    {
     "data": {
      "image/png": "[encoded data removed]",
      "text/plain": [
       "<Figure size 504x504 with 1 Axes>"
      ]
     },
     "metadata": {},
     "output_type": "display_data"
    }
   ],
   "source": [
    "top_10 = df['device_make'].value_counts().nlargest(10)\n",
    "fig1, ax1 = plt.subplots(figsize=(7, 7))\n",
    "ax1.pie(top_10.values, labels=top_10.index, autopct='%1.1f%%', shadow=True)\n",
    "ax1.axis('equal')\n",
    "ax1.set_title('Pie plot of most popular smart phones', fontsize=15, fontweight='bold')\n",
    "plt.show()"
   ]
  },
  {
   "cell_type": "markdown",
   "id": "46fa2722",
   "metadata": {},
   "source": [
    "* From the graph we can see that the version of smartphones used are not known"
   ]
  },
  {
   "cell_type": "markdown",
   "id": "1822af82",
   "metadata": {},
   "source": [
    "### Task 1.2:Classical A/B Testing "
   ]
  },
  {
   "cell_type": "markdown",
   "id": "719755a5",
   "metadata": {},
   "source": [
    "* CORRELATION ANALYSIS"
   ]
  },
  {
   "cell_type": "code",
   "execution_count": 17,
   "id": "949df37d",
   "metadata": {},
   "outputs": [
    {
     "data": {
      "image/png": "[encoded data removed]",
      "text/plain": [
       "<Figure size 576x504 with 2 Axes>"
      ]
     },
     "metadata": {
      "needs_background": "light"
     },
     "output_type": "display_data"
    }
   ],
   "source": [
    "plt.figure(figsize=(8, 7))\n",
    "corr = df.corr()\n",
    "sns.heatmap(corr)\n",
    "plt.title('correlation', fontsize=15, fontweight='bold')\n",
    "plt.show()"
   ]
  },
  {
   "cell_type": "markdown",
   "id": "07735c41",
   "metadata": {},
   "source": [
    "* COMPARE THE TWO GROUPS"
   ]
  },
  {
   "cell_type": "code",
   "execution_count": 18,
   "id": "a02d4570",
   "metadata": {},
   "outputs": [
    {
     "data": {
      "text/html": [
       "<div>\n",
       "<style scoped>\n",
       "    .dataframe tbody tr th:only-of-type {\n",
       "        vertical-align: middle;\n",
       "    }\n",
       "\n",
       "    .dataframe tbody tr th {\n",
       "        vertical-align: top;\n",
       "    }\n",
       "\n",
       "    .dataframe thead th {\n",
       "        text-align: right;\n",
       "    }\n",
       "</style>\n",
       "<table border=\"1\" class=\"dataframe\">\n",
       "  <thead>\n",
       "    <tr style=\"text-align: right;\">\n",
       "      <th></th>\n",
       "      <th>yes</th>\n",
       "      <th>total</th>\n",
       "      <th>no</th>\n",
       "      <th>baseline rate</th>\n",
       "    </tr>\n",
       "    <tr>\n",
       "      <th>experiment</th>\n",
       "      <th></th>\n",
       "      <th></th>\n",
       "      <th></th>\n",
       "      <th></th>\n",
       "    </tr>\n",
       "  </thead>\n",
       "  <tbody>\n",
       "    <tr>\n",
       "      <th>control</th>\n",
       "      <td>264</td>\n",
       "      <td>586</td>\n",
       "      <td>322</td>\n",
       "      <td>0.450512</td>\n",
       "    </tr>\n",
       "    <tr>\n",
       "      <th>exposed</th>\n",
       "      <td>308</td>\n",
       "      <td>657</td>\n",
       "      <td>349</td>\n",
       "      <td>0.468798</td>\n",
       "    </tr>\n",
       "  </tbody>\n",
       "</table>\n",
       "</div>"
      ],
      "text/plain": [
       "            yes  total   no  baseline rate\n",
       "experiment                                \n",
       "control     264    586  322       0.450512\n",
       "exposed     308    657  349       0.468798"
      ]
     },
     "execution_count": 18,
     "metadata": {},
     "output_type": "execute_result"
    }
   ],
   "source": [
    "ab_summary = answered.pivot_table(values='yes', index='experiment', aggfunc=np.sum)\n",
    "ab_summary['total'] = answered.pivot_table(values='yes', index='experiment', aggfunc=lambda x: len(x))\n",
    "ab_summary['no']=ab_summary['total']-ab_summary['yes']\n",
    "ab_summary['baseline rate'] = answered.pivot_table(values='yes', index='experiment')\n",
    "ab_summary"
   ]
  },
  {
   "cell_type": "markdown",
   "id": "faed7686",
   "metadata": {},
   "source": [
    "* The baseline rate is calculated by taking the number of conversions(yes) and dividing that by the number of social interaction(total saying yes and no)\n",
    "* The conversion rate between control and exposed group is 0.018"
   ]
  },
  {
   "cell_type": "markdown",
   "id": "e19fe072",
   "metadata": {},
   "source": [
    "* PLOT OF AWARE"
   ]
  },
  {
   "cell_type": "code",
   "execution_count": 19,
   "id": "b7bc9f3f",
   "metadata": {},
   "outputs": [],
   "source": [
    "from scipy.stats import binom\n",
    "control_plot = ab_summary['yes']['control']/ab_summary['total']['control']\n",
    "exposed_plot = ab_summary['yes']['exposed']/ab_summary['total']['exposed']\n",
    "tot_exp_plot = ab_summary['total']['exposed']\n",
    "tot_cont_plot = ab_summary['total']['control']\n",
    "cont_aware = ab_summary['yes']['control']\n",
    "exp_aware = ab_summary['yes']['exposed']"
   ]
  },
  {
   "cell_type": "code",
   "execution_count": 20,
   "id": "b1462a7c",
   "metadata": {},
   "outputs": [
    {
     "data": {
      "image/png": "[encoded data removed]",
      "text/plain": [
       "<Figure size 864x432 with 1 Axes>"
      ]
     },
     "metadata": {
      "needs_background": "light"
     },
     "output_type": "display_data"
    }
   ],
   "source": [
    "#plot of aware\n",
    "DP = DistributionPlots()\n",
    "HPP = HypothesisPlot()\n",
    "DP.cont_distribution(cont_aware, tot_cont_plot, control_plot, exposed_plot)"
   ]
  },
  {
   "cell_type": "markdown",
   "id": "d66b0f71",
   "metadata": {},
   "source": [
    "* the result from the exposed group in the above plot is indicated by the blue dashline"
   ]
  },
  {
   "cell_type": "markdown",
   "id": "3a32d10f",
   "metadata": {},
   "source": [
    "* PLOT OF THE TWO GROUPS"
   ]
  },
  {
   "cell_type": "code",
   "execution_count": 21,
   "id": "e5b5941e",
   "metadata": {},
   "outputs": [
    {
     "data": {
      "image/png": "[encoded data removed]",
      "text/plain": [
       "<Figure size 864x432 with 1 Axes>"
      ]
     },
     "metadata": {
      "needs_background": "light"
     },
     "output_type": "display_data"
    }
   ],
   "source": [
    "#plot of aware in exposed and controlled\n",
    "DP.cont_exp_distribution(cont_aware, exp_aware, tot_cont_plot, tot_exp_plot, control_plot, exposed_plot) "
   ]
  },
  {
   "cell_type": "markdown",
   "id": "1dd0b0d9",
   "metadata": {},
   "source": [
    "* we can see that the controlled group converted more than the exposed group"
   ]
  },
  {
   "cell_type": "markdown",
   "id": "52572dfc",
   "metadata": {},
   "source": [
    "* STANDARD ERROR OF MEAN FOR BOTH GROUPS"
   ]
  },
  {
   "cell_type": "markdown",
   "id": "935da776",
   "metadata": {},
   "source": [
    "* to calculate the standard error of mean we need to understand what CLT theorem is\n",
    "* CLT theorem suggests that by calculating mean of many samples we can calculate the true mean of the population(the data which the control group was taken)\n",
    "* So standard error of the mean indicates how different the population mean is likely to be from the sample mean"
   ]
  },
  {
   "cell_type": "code",
   "execution_count": 22,
   "id": "e5e84a65",
   "metadata": {},
   "outputs": [],
   "source": [
    "SE_control = np.sqrt(control_plot * (1-control_plot)) / np.sqrt(tot_cont_plot)\n",
    "SE_exposed = np.sqrt(exposed_plot * (1-exposed_plot)) / np.sqrt(tot_exp_plot)"
   ]
  },
  {
   "cell_type": "code",
   "execution_count": 23,
   "id": "2a11d364",
   "metadata": {},
   "outputs": [
    {
     "data": {
      "image/png": "[encoded data removed]",
      "text/plain": [
       "<Figure size 864x432 with 1 Axes>"
      ]
     },
     "metadata": {
      "needs_background": "light"
     },
     "output_type": "display_data"
    }
   ],
   "source": [
    "fig, ax = plt.subplots(figsize=(12, 6))\n",
    "x = np.linspace(.35, .6, 1000)\n",
    "\n",
    "yC = scs.norm(control_plot, SE_control).pdf(x)\n",
    "ax.plot(x, yC, label='Control')\n",
    "ax.axvline(x=control_plot, c='red', alpha=0.5, linestyle='--')\n",
    "\n",
    "yE = scs.norm(exposed_plot, SE_exposed).pdf(x)\n",
    "ax.plot(x, yE, label='Exposed')\n",
    "ax.axvline(x=exposed_plot, c='blue', alpha=0.5, linestyle='--')\n",
    "\n",
    "plt.legend()\n",
    "plt.xlabel('Awareness Proportion')\n",
    "plt.ylabel('PDF')\n",
    "plt.show()\n"
   ]
  },
  {
   "cell_type": "markdown",
   "id": "38dfa466",
   "metadata": {},
   "source": [
    "* the dash lines represents the mean conversion rates for the control and exposed group"
   ]
  },
  {
   "cell_type": "markdown",
   "id": "24a58789",
   "metadata": {},
   "source": [
    " VARIANCE OF THE SUM"
   ]
  },
  {
   "cell_type": "markdown",
   "id": "8875cca9",
   "metadata": {},
   "source": [
    "* A basic property of variance is that the variance of the sum of two random independent variables is the sum of the variances."
   ]
  },
  {
   "cell_type": "markdown",
   "id": "bd80996a",
   "metadata": {},
   "source": [
    "* This means that the null hypothesis and alternative hypothesis will have the same variance, which will be, the sum of the variances for the control group and the test group."
   ]
  },
  {
   "cell_type": "code",
   "execution_count": 24,
   "id": "8b28093a",
   "metadata": {},
   "outputs": [
    {
     "data": {
      "text/plain": [
       "(0.02055339057798332, 0.019468837373132736)"
      ]
     },
     "execution_count": 24,
     "metadata": {},
     "output_type": "execute_result"
    }
   ],
   "source": [
    "#calculate variance of sum\n",
    "var_cont = np.sqrt(control_plot * (1 - control_plot) / tot_cont_plot)\n",
    "var_exp = np.sqrt(exposed_plot * (1 - exposed_plot) / tot_exp_plot)\n",
    "var_cont, var_exp"
   ]
  },
  {
   "cell_type": "markdown",
   "id": "91f5c560",
   "metadata": {},
   "source": [
    " NULL HYPOTHESIS VS. ALTERNATIVE HYPOTHESIS"
   ]
  },
  {
   "cell_type": "markdown",
   "id": "d94fe8ec",
   "metadata": {},
   "source": [
    "* Null hypothesis(H0) suggests that there is no difference in brand awareness between conrolled and exposed group\n",
    "* Alternative hypothesis(H1) suggests a difference in brand awarness"
   ]
  },
  {
   "cell_type": "code",
   "execution_count": null,
   "id": "1fade4cc",
   "metadata": {},
   "outputs": [],
   "source": []
  },
  {
   "cell_type": "code",
   "execution_count": null,
   "id": "892b81df",
   "metadata": {},
   "outputs": [],
   "source": []
  },
  {
   "cell_type": "code",
   "execution_count": null,
   "id": "28f0100f",
   "metadata": {},
   "outputs": [],
   "source": []
  }
 ],
 "metadata": {
  "kernelspec": {
   "display_name": "Python 3",
   "language": "python",
   "name": "python3"
  },
  "language_info": {
   "codemirror_mode": {
    "name": "ipython",
    "version": 3
   },
   "file_extension": ".py",
   "mimetype": "text/x-python",
   "name": "python",
   "nbconvert_exporter": "python",
   "pygments_lexer": "ipython3",
   "version": "3.8.8"
  }
 },
 "nbformat": 4,
 "nbformat_minor": 5
}
