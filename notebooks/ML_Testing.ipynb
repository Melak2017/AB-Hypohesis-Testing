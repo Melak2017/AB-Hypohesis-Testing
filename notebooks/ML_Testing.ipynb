{
 "cells": [
  {
   "cell_type": "code",
   "execution_count": 2,
   "id": "8ae42c67",
   "metadata": {},
   "outputs": [],
   "source": [
    "#importing packages for data manuplation\n",
    "import numpy as np\n",
    "import pandas as pd\n",
    "import matplotlib.pyplot as plt\n",
    "import seaborn as sns\n",
    "%matplotlib inline\n",
    "import plotly.express as px\n",
    "\n",
    "#for easy access to path\n",
    "import sys\n",
    "import os\n",
    "\n",
    "import warnings\n",
    "warnings.filterwarnings('ignore')\n",
    "import dvc.api"
   ]
  },
  {
   "cell_type": "code",
   "execution_count": 3,
   "id": "527f4de2",
   "metadata": {},
   "outputs": [],
   "source": [
    "sys.path.append(os.path.abspath(os.path.join('data')))\n",
    "sys.path.insert(0,'../scripts_/')"
   ]
  },
  {
   "cell_type": "code",
   "execution_count": 4,
   "id": "8c04c59b",
   "metadata": {},
   "outputs": [],
   "source": [
    "#import packages for machine learning operation\n",
    "import scipy.stats as scs\n",
    "import random\n",
    "import math\n",
    "from sklearn import preprocessing\n",
    "from sklearn.model_selection import train_test_split\n",
    "from sklearn.linear_model import LogisticRegression\n",
    "from sklearn.tree import DecisionTreeClassifier \n",
    "from sklearn import metrics\n",
    "from sklearn.model_selection import KFold\n",
    "from sklearn.tree import export_graphviz\n",
    "from six import StringIO\n",
    "from IPython.display import Image  \n",
    "from sklearn import tree\n",
    "import scipy.stats as stat\n",
    "from sklearn.metrics import mean_squared_error, mean_absolute_error, r2_score\n",
    "from sklearn.ensemble import GradientBoostingClassifier\n",
    "\n",
    "#import modules from script\n",
    "from decision_tree import handler\n",
    "from decision_tree import DecisionTreesModel\n",
    "from XGboost import boost\n",
    "from regression import Logistic\n",
    "from helper import Helper\n",
    "\n",
    "from app_logger import App_Logger"
   ]
  },
  {
   "cell_type": "code",
   "execution_count": 5,
   "id": "e157e922",
   "metadata": {},
   "outputs": [
    {
     "data": {
      "text/html": [
       "<div>\n",
       "<style scoped>\n",
       "    .dataframe tbody tr th:only-of-type {\n",
       "        vertical-align: middle;\n",
       "    }\n",
       "\n",
       "    .dataframe tbody tr th {\n",
       "        vertical-align: top;\n",
       "    }\n",
       "\n",
       "    .dataframe thead th {\n",
       "        text-align: right;\n",
       "    }\n",
       "</style>\n",
       "<table border=\"1\" class=\"dataframe\">\n",
       "  <thead>\n",
       "    <tr style=\"text-align: right;\">\n",
       "      <th></th>\n",
       "      <th>auction_id</th>\n",
       "      <th>experiment</th>\n",
       "      <th>date</th>\n",
       "      <th>hour</th>\n",
       "      <th>device_make</th>\n",
       "      <th>platform_os</th>\n",
       "      <th>browser</th>\n",
       "      <th>yes</th>\n",
       "      <th>no</th>\n",
       "    </tr>\n",
       "  </thead>\n",
       "  <tbody>\n",
       "    <tr>\n",
       "      <th>0</th>\n",
       "      <td>0008ef63-77a7-448b-bd1e-075f42c55e39</td>\n",
       "      <td>exposed</td>\n",
       "      <td>2020-07-10</td>\n",
       "      <td>8</td>\n",
       "      <td>Generic Smartphone</td>\n",
       "      <td>6</td>\n",
       "      <td>Chrome Mobile</td>\n",
       "      <td>0</td>\n",
       "      <td>0</td>\n",
       "    </tr>\n",
       "    <tr>\n",
       "      <th>1</th>\n",
       "      <td>000eabc5-17ce-4137-8efe-44734d914446</td>\n",
       "      <td>exposed</td>\n",
       "      <td>2020-07-07</td>\n",
       "      <td>10</td>\n",
       "      <td>Generic Smartphone</td>\n",
       "      <td>6</td>\n",
       "      <td>Chrome Mobile</td>\n",
       "      <td>0</td>\n",
       "      <td>0</td>\n",
       "    </tr>\n",
       "    <tr>\n",
       "      <th>2</th>\n",
       "      <td>0016d14a-ae18-4a02-a204-6ba53b52f2ed</td>\n",
       "      <td>exposed</td>\n",
       "      <td>2020-07-05</td>\n",
       "      <td>2</td>\n",
       "      <td>E5823</td>\n",
       "      <td>6</td>\n",
       "      <td>Chrome Mobile WebView</td>\n",
       "      <td>0</td>\n",
       "      <td>1</td>\n",
       "    </tr>\n",
       "    <tr>\n",
       "      <th>3</th>\n",
       "      <td>00187412-2932-4542-a8ef-3633901c98d9</td>\n",
       "      <td>control</td>\n",
       "      <td>2020-07-03</td>\n",
       "      <td>15</td>\n",
       "      <td>Samsung SM-A705FN</td>\n",
       "      <td>6</td>\n",
       "      <td>Facebook</td>\n",
       "      <td>0</td>\n",
       "      <td>0</td>\n",
       "    </tr>\n",
       "    <tr>\n",
       "      <th>4</th>\n",
       "      <td>001a7785-d3fe-4e11-a344-c8735acacc2c</td>\n",
       "      <td>control</td>\n",
       "      <td>2020-07-03</td>\n",
       "      <td>15</td>\n",
       "      <td>Generic Smartphone</td>\n",
       "      <td>6</td>\n",
       "      <td>Chrome Mobile</td>\n",
       "      <td>0</td>\n",
       "      <td>0</td>\n",
       "    </tr>\n",
       "  </tbody>\n",
       "</table>\n",
       "</div>"
      ],
      "text/plain": [
       "                             auction_id experiment        date  hour  \\\n",
       "0  0008ef63-77a7-448b-bd1e-075f42c55e39    exposed  2020-07-10     8   \n",
       "1  000eabc5-17ce-4137-8efe-44734d914446    exposed  2020-07-07    10   \n",
       "2  0016d14a-ae18-4a02-a204-6ba53b52f2ed    exposed  2020-07-05     2   \n",
       "3  00187412-2932-4542-a8ef-3633901c98d9    control  2020-07-03    15   \n",
       "4  001a7785-d3fe-4e11-a344-c8735acacc2c    control  2020-07-03    15   \n",
       "\n",
       "          device_make  platform_os                browser  yes  no  \n",
       "0  Generic Smartphone            6          Chrome Mobile    0   0  \n",
       "1  Generic Smartphone            6          Chrome Mobile    0   0  \n",
       "2               E5823            6  Chrome Mobile WebView    0   1  \n",
       "3   Samsung SM-A705FN            6               Facebook    0   0  \n",
       "4  Generic Smartphone            6          Chrome Mobile    0   0  "
      ]
     },
     "execution_count": 5,
     "metadata": {},
     "output_type": "execute_result"
    }
   ],
   "source": [
    "pd.set_option('max_column', None)\n",
    "pd.set_option('max_rows', None)\n",
    "#read csv file\n",
    "df = pd.read_csv('../data/AdSmartABdata.csv')\n",
    "df.head()"
   ]
  },
  {
   "cell_type": "code",
   "execution_count": 6,
   "id": "8bb2d71b",
   "metadata": {},
   "outputs": [],
   "source": [
    "#Users who responded to the questionaries\n",
    "answered_df = df.copy(deep=True)\n",
    "answered_df = answered_df[answered_df['yes'] == 1].append(answered_df[answered_df['no'] == 1])"
   ]
  },
  {
   "cell_type": "code",
   "execution_count": 7,
   "id": "9d9a65ee",
   "metadata": {},
   "outputs": [],
   "source": [
    "control_df = answered_df[answered_df['experiment'] == 'control']\n",
    "exposed_df = answered_df[answered_df['experiment'] == 'exposed']\n"
   ]
  },
  {
   "cell_type": "code",
   "execution_count": 8,
   "id": "db2d1479",
   "metadata": {},
   "outputs": [
    {
     "data": {
      "text/html": [
       "<div>\n",
       "<style scoped>\n",
       "    .dataframe tbody tr th:only-of-type {\n",
       "        vertical-align: middle;\n",
       "    }\n",
       "\n",
       "    .dataframe tbody tr th {\n",
       "        vertical-align: top;\n",
       "    }\n",
       "\n",
       "    .dataframe thead th {\n",
       "        text-align: right;\n",
       "    }\n",
       "</style>\n",
       "<table border=\"1\" class=\"dataframe\">\n",
       "  <thead>\n",
       "    <tr style=\"text-align: right;\">\n",
       "      <th></th>\n",
       "      <th>auction_id</th>\n",
       "      <th>experiment</th>\n",
       "      <th>date</th>\n",
       "      <th>hour</th>\n",
       "      <th>device_make</th>\n",
       "      <th>platform_os</th>\n",
       "      <th>browser</th>\n",
       "      <th>response</th>\n",
       "    </tr>\n",
       "  </thead>\n",
       "  <tbody>\n",
       "    <tr>\n",
       "      <th>0</th>\n",
       "      <td>4e0c6839-9da6-4291-a45c-31e0bda501a8</td>\n",
       "      <td>exposed</td>\n",
       "      <td>2020-07-04</td>\n",
       "      <td>8</td>\n",
       "      <td>Generic Smartphone</td>\n",
       "      <td>6</td>\n",
       "      <td>Chrome Mobile</td>\n",
       "      <td>0</td>\n",
       "    </tr>\n",
       "    <tr>\n",
       "      <th>1</th>\n",
       "      <td>cc35027c-4113-4b3d-809d-659083a91d13</td>\n",
       "      <td>exposed</td>\n",
       "      <td>2020-07-03</td>\n",
       "      <td>9</td>\n",
       "      <td>Generic Smartphone</td>\n",
       "      <td>6</td>\n",
       "      <td>Chrome Mobile</td>\n",
       "      <td>0</td>\n",
       "    </tr>\n",
       "    <tr>\n",
       "      <th>2</th>\n",
       "      <td>94217fb4-06db-43b2-a9fe-504e2a284f85</td>\n",
       "      <td>exposed</td>\n",
       "      <td>2020-07-10</td>\n",
       "      <td>1</td>\n",
       "      <td>Samsung SM-A920F</td>\n",
       "      <td>6</td>\n",
       "      <td>Chrome Mobile WebView</td>\n",
       "      <td>0</td>\n",
       "    </tr>\n",
       "    <tr>\n",
       "      <th>3</th>\n",
       "      <td>d5ff5e67-bbe1-43cf-9e12-1b18b27fd009</td>\n",
       "      <td>exposed</td>\n",
       "      <td>2020-07-09</td>\n",
       "      <td>20</td>\n",
       "      <td>Generic Smartphone</td>\n",
       "      <td>6</td>\n",
       "      <td>Chrome Mobile</td>\n",
       "      <td>1</td>\n",
       "    </tr>\n",
       "    <tr>\n",
       "      <th>4</th>\n",
       "      <td>dd5b63f1-b5a3-4b6b-a894-8510452b62d5</td>\n",
       "      <td>exposed</td>\n",
       "      <td>2020-07-07</td>\n",
       "      <td>13</td>\n",
       "      <td>Samsung SM-A600FN</td>\n",
       "      <td>6</td>\n",
       "      <td>Facebook</td>\n",
       "      <td>1</td>\n",
       "    </tr>\n",
       "  </tbody>\n",
       "</table>\n",
       "</div>"
      ],
      "text/plain": [
       "                             auction_id experiment        date  hour  \\\n",
       "0  4e0c6839-9da6-4291-a45c-31e0bda501a8    exposed  2020-07-04     8   \n",
       "1  cc35027c-4113-4b3d-809d-659083a91d13    exposed  2020-07-03     9   \n",
       "2  94217fb4-06db-43b2-a9fe-504e2a284f85    exposed  2020-07-10     1   \n",
       "3  d5ff5e67-bbe1-43cf-9e12-1b18b27fd009    exposed  2020-07-09    20   \n",
       "4  dd5b63f1-b5a3-4b6b-a894-8510452b62d5    exposed  2020-07-07    13   \n",
       "\n",
       "          device_make  platform_os                browser  response  \n",
       "0  Generic Smartphone            6          Chrome Mobile         0  \n",
       "1  Generic Smartphone            6          Chrome Mobile         0  \n",
       "2    Samsung SM-A920F            6  Chrome Mobile WebView         0  \n",
       "3  Generic Smartphone            6          Chrome Mobile         1  \n",
       "4   Samsung SM-A600FN            6               Facebook         1  "
      ]
     },
     "execution_count": 8,
     "metadata": {},
     "output_type": "execute_result"
    }
   ],
   "source": [
    "# Forming a combined DataFrame substituting the yes and no column to response and having only 1 and 0 as values where 1 translates to a yes and 0 to no\n",
    "#All users who answered yes\n",
    "all_yes_df = control_df[control_df['yes'] == 1].append(exposed_df[exposed_df['yes'] == 1])\n",
    "all_yes_df = all_yes_df.drop(['yes','no'], axis = 1)\n",
    "all_yes_df['response'] = 1\n",
    "#All users who answered no\n",
    "all_no_df = control_df[control_df['no'] == 1].append(exposed_df[exposed_df['no'] == 1])\n",
    "all_no_df = all_no_df.drop(['yes','no'], axis = 1)\n",
    "all_no_df['response'] = 0\n",
    "#Final Combined dataframe will be\n",
    "combined_df = all_yes_df.append(all_no_df)\n",
    "combined_df = combined_df.sample(frac=1).reset_index(drop=True)\n",
    "combined_df.head(5)"
   ]
  },
  {
   "cell_type": "markdown",
   "id": "661a891f",
   "metadata": {},
   "source": [
    ">Extracting all who responded either yes or no to one column"
   ]
  },
  {
   "cell_type": "markdown",
   "id": "fc57c447",
   "metadata": {},
   "source": [
    "### Encoding categorical variables using Label Encoder"
   ]
  },
  {
   "cell_type": "code",
   "execution_count": 9,
   "id": "db071c92",
   "metadata": {},
   "outputs": [],
   "source": [
    "def encode_labels(combined_df):\n",
    "    date_encoder = preprocessing.LabelEncoder()\n",
    "    device_encoder = preprocessing.LabelEncoder()\n",
    "    browser_encoder = preprocessing.LabelEncoder()\n",
    "    experiment_encoder = preprocessing.LabelEncoder()\n",
    "    response_encoder = preprocessing.LabelEncoder()\n",
    "    \n",
    "    combined_df['date'] = date_encoder.fit_transform(combined_df['date'])\n",
    "    combined_df['device_make'] = device_encoder.fit_transform(combined_df['device_make'])\n",
    "    combined_df['browser'] = browser_encoder.fit_transform(combined_df['browser'])\n",
    "    combined_df['experiment'] = experiment_encoder.fit_transform(combined_df['experiment'])\n",
    "    combined_df['browser'] = response_encoder.fit_transform(combined_df['browser'])\n",
    "    combined_df['response'] = response_encoder.fit_transform(combined_df['response'])\n",
    "\n",
    "\n",
    "    \n",
    "    return combined_df"
   ]
  },
  {
   "cell_type": "code",
   "execution_count": 10,
   "id": "3b3c4e36",
   "metadata": {},
   "outputs": [
    {
     "data": {
      "text/html": [
       "<div>\n",
       "<style scoped>\n",
       "    .dataframe tbody tr th:only-of-type {\n",
       "        vertical-align: middle;\n",
       "    }\n",
       "\n",
       "    .dataframe tbody tr th {\n",
       "        vertical-align: top;\n",
       "    }\n",
       "\n",
       "    .dataframe thead th {\n",
       "        text-align: right;\n",
       "    }\n",
       "</style>\n",
       "<table border=\"1\" class=\"dataframe\">\n",
       "  <thead>\n",
       "    <tr style=\"text-align: right;\">\n",
       "      <th></th>\n",
       "      <th>auction_id</th>\n",
       "      <th>experiment</th>\n",
       "      <th>date</th>\n",
       "      <th>hour</th>\n",
       "      <th>device_make</th>\n",
       "      <th>platform_os</th>\n",
       "      <th>browser</th>\n",
       "      <th>response</th>\n",
       "    </tr>\n",
       "  </thead>\n",
       "  <tbody>\n",
       "    <tr>\n",
       "      <th>0</th>\n",
       "      <td>4e0c6839-9da6-4291-a45c-31e0bda501a8</td>\n",
       "      <td>exposed</td>\n",
       "      <td>2020-07-04</td>\n",
       "      <td>8</td>\n",
       "      <td>Generic Smartphone</td>\n",
       "      <td>6</td>\n",
       "      <td>Chrome Mobile</td>\n",
       "      <td>0</td>\n",
       "    </tr>\n",
       "    <tr>\n",
       "      <th>1</th>\n",
       "      <td>cc35027c-4113-4b3d-809d-659083a91d13</td>\n",
       "      <td>exposed</td>\n",
       "      <td>2020-07-03</td>\n",
       "      <td>9</td>\n",
       "      <td>Generic Smartphone</td>\n",
       "      <td>6</td>\n",
       "      <td>Chrome Mobile</td>\n",
       "      <td>0</td>\n",
       "    </tr>\n",
       "    <tr>\n",
       "      <th>2</th>\n",
       "      <td>94217fb4-06db-43b2-a9fe-504e2a284f85</td>\n",
       "      <td>exposed</td>\n",
       "      <td>2020-07-10</td>\n",
       "      <td>1</td>\n",
       "      <td>Samsung SM-A920F</td>\n",
       "      <td>6</td>\n",
       "      <td>Chrome Mobile WebView</td>\n",
       "      <td>0</td>\n",
       "    </tr>\n",
       "    <tr>\n",
       "      <th>3</th>\n",
       "      <td>d5ff5e67-bbe1-43cf-9e12-1b18b27fd009</td>\n",
       "      <td>exposed</td>\n",
       "      <td>2020-07-09</td>\n",
       "      <td>20</td>\n",
       "      <td>Generic Smartphone</td>\n",
       "      <td>6</td>\n",
       "      <td>Chrome Mobile</td>\n",
       "      <td>1</td>\n",
       "    </tr>\n",
       "    <tr>\n",
       "      <th>4</th>\n",
       "      <td>dd5b63f1-b5a3-4b6b-a894-8510452b62d5</td>\n",
       "      <td>exposed</td>\n",
       "      <td>2020-07-07</td>\n",
       "      <td>13</td>\n",
       "      <td>Samsung SM-A600FN</td>\n",
       "      <td>6</td>\n",
       "      <td>Facebook</td>\n",
       "      <td>1</td>\n",
       "    </tr>\n",
       "  </tbody>\n",
       "</table>\n",
       "</div>"
      ],
      "text/plain": [
       "                             auction_id experiment        date  hour  \\\n",
       "0  4e0c6839-9da6-4291-a45c-31e0bda501a8    exposed  2020-07-04     8   \n",
       "1  cc35027c-4113-4b3d-809d-659083a91d13    exposed  2020-07-03     9   \n",
       "2  94217fb4-06db-43b2-a9fe-504e2a284f85    exposed  2020-07-10     1   \n",
       "3  d5ff5e67-bbe1-43cf-9e12-1b18b27fd009    exposed  2020-07-09    20   \n",
       "4  dd5b63f1-b5a3-4b6b-a894-8510452b62d5    exposed  2020-07-07    13   \n",
       "\n",
       "          device_make  platform_os                browser  response  \n",
       "0  Generic Smartphone            6          Chrome Mobile         0  \n",
       "1  Generic Smartphone            6          Chrome Mobile         0  \n",
       "2    Samsung SM-A920F            6  Chrome Mobile WebView         0  \n",
       "3  Generic Smartphone            6          Chrome Mobile         1  \n",
       "4   Samsung SM-A600FN            6               Facebook         1  "
      ]
     },
     "execution_count": 10,
     "metadata": {},
     "output_type": "execute_result"
    }
   ],
   "source": [
    "combined_df.head()"
   ]
  },
  {
   "cell_type": "markdown",
   "id": "308b70d6",
   "metadata": {},
   "source": [
    "## Modeling Training\n"
   ]
  },
  {
   "cell_type": "code",
   "execution_count": 11,
   "id": "8c3b1c2a",
   "metadata": {},
   "outputs": [],
   "source": [
    "def feature_data(cleaned_df):\n",
    "    \n",
    "    broweser_df = cleaned_df[[\"experiment\", \"hour\", \"date\", 'device_make', 'browser', 'response']]\n",
    "    platfrom_df = cleaned_df[[\"experiment\", \"hour\", \"date\", 'device_make', 'platform_os', 'response']]\n",
    "\n",
    "    return broweser_df, platfrom_df"
   ]
  },
  {
   "cell_type": "code",
   "execution_count": 12,
   "id": "d3e658c1",
   "metadata": {},
   "outputs": [],
   "source": [
    "def save_encoded_df(encoded_df):\n",
    "    \n",
    "    browser_df, platfrom_df = feature_data(encoded_df)\n",
    "    browser_df.to_csv('../data/browser.csv', index=False)\n",
    "    platfrom_df.to_csv('../data/platform.csv', index=False)"
   ]
  },
  {
   "cell_type": "code",
   "execution_count": 13,
   "id": "35b55fdd",
   "metadata": {},
   "outputs": [],
   "source": [
    "encoded_df = encode_labels(combined_df)\n",
    "save_encoded_df(encoded_df)"
   ]
  },
  {
   "cell_type": "code",
   "execution_count": 16,
   "id": "d1b94e46",
   "metadata": {},
   "outputs": [],
   "source": [
    "browser_df = combined_df[[\"experiment\", \"hour\", \"date\", 'device_make', 'browser', 'response']]"
   ]
  },
  {
   "cell_type": "code",
   "execution_count": 17,
   "id": "29c37bdd",
   "metadata": {},
   "outputs": [],
   "source": [
    "browser_df=browser_df.to_csv(\"../data2/AdSmartABdata.csv\")\n"
   ]
  },
  {
   "cell_type": "code",
   "execution_count": 18,
   "id": "16f7c592",
   "metadata": {},
   "outputs": [],
   "source": [
    "# versioning browser \n",
    "path = 'data2/AdSmartABdata.csv'\n",
    "repo = 'https://github.com/Melak2017/abtest-mlops'\n",
    "rev = 'browser-v1'\n",
    "data_url = dvc.api.get_url(path=path, repo=repo, rev=rev)\n",
    "collected_data = pd.read_csv(data_url)\n"
   ]
  },
  {
   "cell_type": "code",
   "execution_count": 19,
   "id": "24f93100",
   "metadata": {},
   "outputs": [],
   "source": [
    "platfrom_df = combined_df[[\"experiment\", \"hour\", \"date\", 'device_make', 'platform_os', 'response']]"
   ]
  },
  {
   "cell_type": "code",
   "execution_count": 20,
   "id": "ccaeb577",
   "metadata": {},
   "outputs": [],
   "source": [
    "platfrom_df= platfrom_df.to_csv(\"../data2/AdSmartABdata.csv\")\n"
   ]
  },
  {
   "cell_type": "code",
   "execution_count": 21,
   "id": "1ab29984",
   "metadata": {},
   "outputs": [],
   "source": [
    "# versioning platform\n",
    "path = 'data2/AdSmartABdata.csv'\n",
    "repo = 'https://github.com/Melak2017/abtest-mlops'\n",
    "rev = 'platform-v1'\n",
    "data_url = dvc.api.get_url(path=path, repo=repo, rev=rev)\n",
    "collected_data = pd.read_csv(data_url)"
   ]
  },
  {
   "cell_type": "markdown",
   "id": "ea3eb1b2",
   "metadata": {},
   "source": [
    "#### Decision Tree"
   ]
  },
  {
   "cell_type": "code",
   "execution_count": null,
   "id": "0e418a49",
   "metadata": {},
   "outputs": [],
   "source": []
  },
  {
   "cell_type": "code",
   "execution_count": 22,
   "id": "96167206",
   "metadata": {},
   "outputs": [],
   "source": [
    "def read_model(self, file_name):\n",
    "    with open(f\"../models/{file_name}.pkl\", \"rb\") as f:\n",
    "        self.logger.info(f\"Model loaded from {file_name}.pkl\")\n",
    "        return pickle.load(f)\n",
    "\n",
    "def write_model(self, file_name):\n",
    "    with open(f\"../models/{file_name}.pkl\", \"wb\") as f:\n",
    "        self.logger.info(f\"Model dumped to {file_name}.pkl\")\n",
    "        pickle.dump(model, f)\n"
   ]
  },
  {
   "cell_type": "code",
   "execution_count": null,
   "id": "c1363422",
   "metadata": {},
   "outputs": [],
   "source": [
    "feature_cols = [\"experiment\", \"hour\", \"date\", 'device_make', 'browser']\n",
    "\n",
    "X = browser_df[feature_cols]\n",
    "y = browser_df[['response']]\n",
    "\n",
    "test_size = 0.1\n",
    "\n",
    "X_train, X_test, y_train, y_test = train_test_split(X, y, test_size=test_size, random_state=42)"
   ]
  },
  {
   "cell_type": "code",
   "execution_count": null,
   "id": "58a68809",
   "metadata": {},
   "outputs": [],
   "source": [
    "decisionTreesModel = DecisionTreesModel(X_train, X_test,  y_train, y_test)\n",
    "\n",
    "folds = 5\n",
    "clf, acc_arr, loss_arr = decisionTreesModel.train(folds)\n"
   ]
  },
  {
   "cell_type": "code",
   "execution_count": null,
   "id": "eb202bca",
   "metadata": {},
   "outputs": [],
   "source": [
    "test_acc, loss, report, confusion_matrix = decisionTreesModel.test()\n",
    "print(f\"Loss on test data is: {loss:.3f}\")\n",
    "print(f\"Test accuracy on test data is: {test_acc:.3f}\")\n",
    "print()"
   ]
  },
  {
   "cell_type": "code",
   "execution_count": null,
   "id": "25f9fff0",
   "metadata": {},
   "outputs": [],
   "source": [
    "decisionTreesModel.get_feature_importance()"
   ]
  },
  {
   "cell_type": "code",
   "execution_count": null,
   "id": "2e250a5d",
   "metadata": {},
   "outputs": [],
   "source": [
    "import pydotplus\n",
    "#import graphviz\n",
    "dot_data = StringIO()\n",
    "\n",
    "leaves_parallel=False\n",
    "feature_cols = [\"experiment\", \"hour\", \"date\", 'device_make', 'browser']\n",
    "out_put_file = \"AbTestDecisionTree.dot\"\n",
    "\n",
    "dot_data = export_graphviz(clf, out_file=out_put_file,  \n",
    "                filled=True, rounded=True,\n",
    "                special_characters=True, feature_names = feature_cols,class_names=['Aware','Not Aware'])\n",
    "\n",
    "graph = pydotplus.graphviz.graph_from_dot_file(out_put_file)\n",
    "graph.write_png('AbTestDecisionTree.png')\n",
    "\n",
    "Image(graph.create_png())"
   ]
  },
  {
   "cell_type": "markdown",
   "id": "cecd72a4",
   "metadata": {},
   "source": [
    "##### Decision tree by platform"
   ]
  },
  {
   "cell_type": "code",
   "execution_count": null,
   "id": "a4b7825d",
   "metadata": {},
   "outputs": [],
   "source": [
    "feature_cols = [\"experiment\", \"hour\", \"date\", 'device_make', 'platform_os']\n",
    "\n",
    "X = df_platform[feature_cols]\n",
    "y = df_platform[['response']]\n",
    "\n",
    "test_size = 0.1\n",
    "\n",
    "X_train, X_test, y_train, y_test = train_test_split(X, y, test_size=test_size, random_state=42)"
   ]
  },
  {
   "cell_type": "code",
   "execution_count": null,
   "id": "905b908f",
   "metadata": {},
   "outputs": [],
   "source": [
    "decisionTreesModel = DecisionTreesModel(X_train, X_test,  y_train, y_test)\n",
    "\n",
    "folds = 5\n",
    "clf, acc_arr, loss_arr = decisionTreesModel.train(folds)\n",
    "\n"
   ]
  },
  {
   "cell_type": "code",
   "execution_count": null,
   "id": "e4fdcf03",
   "metadata": {},
   "outputs": [],
   "source": [
    "test_acc, loss, report, confusion_matrix = decisionTreesModel.test()\n",
    "print(f\"Loss on test data is: {loss:.3f}\")\n",
    "print()"
   ]
  },
  {
   "cell_type": "code",
   "execution_count": null,
   "id": "8bd74e63",
   "metadata": {},
   "outputs": [],
   "source": [
    "decisionTreesModel.get_feature_importance()"
   ]
  },
  {
   "cell_type": "code",
   "execution_count": null,
   "id": "46044cd2",
   "metadata": {},
   "outputs": [],
   "source": [
    "dot_data = StringIO()\n",
    "\n",
    "leaves_parallel=False\n",
    "feature_cols = [\"experiment\", \"hour\", \"date\", 'device_make', 'browser']\n",
    "out_put_file = \"AbTestDecisionTree.dot\"\n",
    "\n",
    "dot_data = export_graphviz(clf, out_file=out_put_file,  \n",
    "                filled=True, rounded=True,\n",
    "                special_characters=True, feature_names = feature_cols,class_names=['Aware','Not Aware'])\n",
    "\n",
    "graph = pydotplus.graphviz.graph_from_dot_file(out_put_file)\n",
    "graph.write_png('AbTestDecisionTree.png')\n",
    "Image(graph.create_png())"
   ]
  },
  {
   "cell_type": "markdown",
   "id": "9ddbae88",
   "metadata": {},
   "source": [
    "#### Logestic Regression"
   ]
  },
  {
   "cell_type": "code",
   "execution_count": null,
   "id": "36898f54",
   "metadata": {},
   "outputs": [],
   "source": [
    "feature_cols = [\"experiment\", \"hour\", \"date\", 'device_make', 'browser']\n",
    "\n",
    "X = browser_df[feature_cols]\n",
    "y = browser_df[['response']]\n",
    "\n",
    "test_size = 0.1\n",
    "\n",
    "X_train, X_test, y_train, y_test = train_test_split(X, y, test_size=test_size, random_state=42)"
   ]
  },
  {
   "cell_type": "code",
   "execution_count": null,
   "id": "0668f8e3",
   "metadata": {},
   "outputs": [],
   "source": [
    "Logistic = Logistic(X_train, X_test,  y_train, y_test)\n",
    "\n",
    "folds = 5\n",
    "clf2, loss_arr_2, acc_arr_2 = Logistic.train(folds)\n"
   ]
  },
  {
   "cell_type": "code",
   "execution_count": null,
   "id": "75d25da6",
   "metadata": {},
   "outputs": [],
   "source": [
    "test_acc2, test_loss2, report2, matrix2  = Logistic.test()"
   ]
  },
  {
   "cell_type": "code",
   "execution_count": null,
   "id": "ea05696b",
   "metadata": {},
   "outputs": [],
   "source": [
    "p_values_df = Logistic.get_p_values()\n",
    "p_values_df\n",
    "\n"
   ]
  },
  {
   "cell_type": "code",
   "execution_count": null,
   "id": "a0ccda02",
   "metadata": {},
   "outputs": [],
   "source": [
    "p_value_fig = Logistic.plot_pvalues(p_values_df)"
   ]
  },
  {
   "cell_type": "code",
   "execution_count": null,
   "id": "7f376662",
   "metadata": {},
   "outputs": [],
   "source": []
  },
  {
   "cell_type": "code",
   "execution_count": null,
   "id": "e3db8126",
   "metadata": {},
   "outputs": [],
   "source": [
    "feature_cols = [\"experiment\", \"hour\", \"date\", 'device_make', 'platform_os']\n",
    "\n",
    "X = df_platform[feature_cols]\n",
    "y = df_platform[['response']]\n",
    "\n",
    "test_size = 0.1\n",
    "\n",
    "X_train, X_test, y_train, y_test = train_test_split(X, y, test_size=test_size, random_state=42)"
   ]
  },
  {
   "cell_type": "code",
   "execution_count": null,
   "id": "88967f91",
   "metadata": {},
   "outputs": [],
   "source": [
    "Logistic = Logistic(X_train, X_test,  y_train, y_test)\n",
    "\n",
    "folds = 5\n",
    "clf2, loss_arr_2, acc_arr_2 = Logistic.train(folds)\n"
   ]
  },
  {
   "cell_type": "code",
   "execution_count": null,
   "id": "d1ad352e",
   "metadata": {},
   "outputs": [],
   "source": [
    "test_acc2, test_loss2, report2, matrix2  = Logistic.test()"
   ]
  },
  {
   "cell_type": "code",
   "execution_count": null,
   "id": "06bafe6a",
   "metadata": {},
   "outputs": [],
   "source": [
    "p_values_df = Logistic.get_p_values()\n",
    "p_value_fig = Logistic.plot_pvalues(p_values_df)\n",
    "p_values_df"
   ]
  },
  {
   "cell_type": "markdown",
   "id": "a1c1f2f7",
   "metadata": {},
   "source": [
    "#### XGboost Model"
   ]
  },
  {
   "cell_type": "code",
   "execution_count": null,
   "id": "be93ce8a",
   "metadata": {},
   "outputs": [],
   "source": [
    "# feature_cols = [\"experiment\", \"hour\", \"date\", 'device_make', \"platform_os\",  \"browser\"]\n",
    "feature_cols = [\"experiment\", \"hour\", \"date\", 'device_make', 'browser']\n",
    "\n",
    "X = browser_df[feature_cols]\n",
    "y = browser_df[['response']]\n",
    "\n",
    "test_size = 0.1\n",
    "\n",
    "X_train, X_test, y_train, y_test = train_test_split(X, y, test_size=test_size, random_state=42)"
   ]
  },
  {
   "cell_type": "code",
   "execution_count": null,
   "id": "14ba4d6f",
   "metadata": {},
   "outputs": [],
   "source": [
    "boost = boost(X_train, X_test,  y_train, y_test)\n",
    "\n",
    "folds = 5\n",
    "clf3, acc_arr, loss_arr = boost.train(folds)\n",
    "\n"
   ]
  },
  {
   "cell_type": "code",
   "execution_count": null,
   "id": "b5cee79e",
   "metadata": {},
   "outputs": [],
   "source": [
    "test_acc, loss, report, confusion_matrix = boost.test()\n",
    "print(f\"Loss on test data is: {loss:.3f}\")\n",
    "print()"
   ]
  },
  {
   "cell_type": "code",
   "execution_count": null,
   "id": "786cbb27",
   "metadata": {},
   "outputs": [],
   "source": [
    "boost.get_feature_importance()"
   ]
  },
  {
   "cell_type": "code",
   "execution_count": null,
   "id": "7de38934",
   "metadata": {},
   "outputs": [],
   "source": [
    "feature_cols = [\"experiment\", \"hour\", \"date\", 'device_make', 'platform_os']\n",
    "\n",
    "X = df_platform[feature_cols]\n",
    "y = df_platform[['response']]\n",
    "\n",
    "test_size = 0.1\n",
    "\n",
    "X_train, X_test, y_train, y_test = train_test_split(X, y, test_size=test_size, random_state=42)"
   ]
  },
  {
   "cell_type": "code",
   "execution_count": null,
   "id": "8beeb6d1",
   "metadata": {},
   "outputs": [],
   "source": [
    "boost = boost(X_train, X_test,  y_train, y_test)\n",
    "\n",
    "folds = 5\n",
    "clf3, acc_arr, loss_arr = boost.train(folds)\n"
   ]
  },
  {
   "cell_type": "code",
   "execution_count": null,
   "id": "8acc21fb",
   "metadata": {},
   "outputs": [],
   "source": [
    "test_acc, loss, report, confusion_matrix = boost.test()\n",
    "print(f\"Loss on test data is: {loss:.3f}\")\n",
    "print()"
   ]
  },
  {
   "cell_type": "markdown",
   "id": "f6f60b37",
   "metadata": {},
   "source": [
    "##### Hyper parameter for decision tress"
   ]
  },
  {
   "cell_type": "code",
   "execution_count": null,
   "id": "7a85f26b",
   "metadata": {},
   "outputs": [],
   "source": []
  }
 ],
 "metadata": {
  "kernelspec": {
   "display_name": "Python 3",
   "language": "python",
   "name": "python3"
  },
  "language_info": {
   "codemirror_mode": {
    "name": "ipython",
    "version": 3
   },
   "file_extension": ".py",
   "mimetype": "text/x-python",
   "name": "python",
   "nbconvert_exporter": "python",
   "pygments_lexer": "ipython3",
   "version": "3.8.8"
  }
 },
 "nbformat": 4,
 "nbformat_minor": 5
}
